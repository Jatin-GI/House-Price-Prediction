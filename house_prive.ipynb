{
 "cells": [
  {
   "cell_type": "code",
   "execution_count": 6,
   "id": "37541665",
   "metadata": {},
   "outputs": [],
   "source": [
    "import pandas as pd\n",
    "import numpy as np"
   ]
  },
  {
   "cell_type": "code",
   "execution_count": 2,
   "id": "f8de477c",
   "metadata": {},
   "outputs": [
    {
     "data": {
      "text/html": [
       "<div>\n",
       "<style scoped>\n",
       "    .dataframe tbody tr th:only-of-type {\n",
       "        vertical-align: middle;\n",
       "    }\n",
       "\n",
       "    .dataframe tbody tr th {\n",
       "        vertical-align: top;\n",
       "    }\n",
       "\n",
       "    .dataframe thead th {\n",
       "        text-align: right;\n",
       "    }\n",
       "</style>\n",
       "<table border=\"1\" class=\"dataframe\">\n",
       "  <thead>\n",
       "    <tr style=\"text-align: right;\">\n",
       "      <th></th>\n",
       "      <th>area_type</th>\n",
       "      <th>availability</th>\n",
       "      <th>location</th>\n",
       "      <th>size</th>\n",
       "      <th>society</th>\n",
       "      <th>total_sqft</th>\n",
       "      <th>bath</th>\n",
       "      <th>balcony</th>\n",
       "      <th>price</th>\n",
       "    </tr>\n",
       "  </thead>\n",
       "  <tbody>\n",
       "    <tr>\n",
       "      <th>11387</th>\n",
       "      <td>Super built-up  Area</td>\n",
       "      <td>Ready To Move</td>\n",
       "      <td>Kambipura</td>\n",
       "      <td>2 BHK</td>\n",
       "      <td>Prrtht</td>\n",
       "      <td>883</td>\n",
       "      <td>2.0</td>\n",
       "      <td>1.0</td>\n",
       "      <td>45.0</td>\n",
       "    </tr>\n",
       "    <tr>\n",
       "      <th>12695</th>\n",
       "      <td>Super built-up  Area</td>\n",
       "      <td>Ready To Move</td>\n",
       "      <td>7th Phase JP Nagar</td>\n",
       "      <td>2 BHK</td>\n",
       "      <td>Prhna S</td>\n",
       "      <td>1128</td>\n",
       "      <td>2.0</td>\n",
       "      <td>1.0</td>\n",
       "      <td>60.0</td>\n",
       "    </tr>\n",
       "    <tr>\n",
       "      <th>7869</th>\n",
       "      <td>Plot  Area</td>\n",
       "      <td>Ready To Move</td>\n",
       "      <td>Vaishnavi Layout</td>\n",
       "      <td>4 Bedroom</td>\n",
       "      <td>Prsisge</td>\n",
       "      <td>4800</td>\n",
       "      <td>5.0</td>\n",
       "      <td>2.0</td>\n",
       "      <td>420.0</td>\n",
       "    </tr>\n",
       "    <tr>\n",
       "      <th>1697</th>\n",
       "      <td>Plot  Area</td>\n",
       "      <td>Ready To Move</td>\n",
       "      <td>Ramagondanahalli</td>\n",
       "      <td>1 Bedroom</td>\n",
       "      <td>NaN</td>\n",
       "      <td>540</td>\n",
       "      <td>1.0</td>\n",
       "      <td>0.0</td>\n",
       "      <td>30.0</td>\n",
       "    </tr>\n",
       "    <tr>\n",
       "      <th>4476</th>\n",
       "      <td>Super built-up  Area</td>\n",
       "      <td>Ready To Move</td>\n",
       "      <td>7th Phase JP Nagar</td>\n",
       "      <td>2 BHK</td>\n",
       "      <td>BriumMi</td>\n",
       "      <td>1215</td>\n",
       "      <td>2.0</td>\n",
       "      <td>2.0</td>\n",
       "      <td>90.0</td>\n",
       "    </tr>\n",
       "  </tbody>\n",
       "</table>\n",
       "</div>"
      ],
      "text/plain": [
       "                  area_type   availability            location       size  \\\n",
       "11387  Super built-up  Area  Ready To Move           Kambipura      2 BHK   \n",
       "12695  Super built-up  Area  Ready To Move  7th Phase JP Nagar      2 BHK   \n",
       "7869             Plot  Area  Ready To Move    Vaishnavi Layout  4 Bedroom   \n",
       "1697             Plot  Area  Ready To Move    Ramagondanahalli  1 Bedroom   \n",
       "4476   Super built-up  Area  Ready To Move  7th Phase JP Nagar      2 BHK   \n",
       "\n",
       "       society total_sqft  bath  balcony  price  \n",
       "11387  Prrtht         883   2.0      1.0   45.0  \n",
       "12695  Prhna S       1128   2.0      1.0   60.0  \n",
       "7869   Prsisge       4800   5.0      2.0  420.0  \n",
       "1697       NaN        540   1.0      0.0   30.0  \n",
       "4476   BriumMi       1215   2.0      2.0   90.0  "
      ]
     },
     "execution_count": 2,
     "metadata": {},
     "output_type": "execute_result"
    }
   ],
   "source": [
    "df=pd.read_csv('Bengaluru_House_Data.csv')\n",
    "df.sample(5)"
   ]
  },
  {
   "cell_type": "code",
   "execution_count": 3,
   "id": "53e8183b",
   "metadata": {},
   "outputs": [
    {
     "data": {
      "text/plain": [
       "area_type        0.000000\n",
       "availability     0.000000\n",
       "location         0.007508\n",
       "size             0.120120\n",
       "society         41.306306\n",
       "total_sqft       0.000000\n",
       "bath             0.548048\n",
       "balcony          4.572072\n",
       "price            0.000000\n",
       "dtype: float64"
      ]
     },
     "execution_count": 3,
     "metadata": {},
     "output_type": "execute_result"
    }
   ],
   "source": [
    "df.isnull().mean()*100"
   ]
  },
  {
   "cell_type": "code",
   "execution_count": 4,
   "id": "435ff321",
   "metadata": {},
   "outputs": [
    {
     "data": {
      "text/plain": [
       "area_type        object\n",
       "availability     object\n",
       "location         object\n",
       "size             object\n",
       "society          object\n",
       "total_sqft       object\n",
       "bath            float64\n",
       "balcony         float64\n",
       "price           float64\n",
       "dtype: object"
      ]
     },
     "execution_count": 4,
     "metadata": {},
     "output_type": "execute_result"
    }
   ],
   "source": [
    "df.dtypes"
   ]
  },
  {
   "cell_type": "code",
   "execution_count": 11,
   "id": "ada7537c",
   "metadata": {},
   "outputs": [
    {
     "data": {
      "text/plain": [
       "array(['1056', '2600', '1440', ..., '1133 - 1384', '774', '4689'],\n",
       "      shape=(2117,), dtype=object)"
      ]
     },
     "execution_count": 11,
     "metadata": {},
     "output_type": "execute_result"
    }
   ],
   "source": [
    "df['balcony']=df['balcony'].fillna(np.mean(df['balcony']))\n",
    "df['bath']=df['bath'].fillna(np.mean(df['bath']))\n",
    "df['total_sqft'].unique()"
   ]
  },
  {
   "cell_type": "code",
   "execution_count": 12,
   "id": "e4676b52",
   "metadata": {},
   "outputs": [],
   "source": [
    "def convert_sqft(x):\n",
    "    try:\n",
    "        if '-' in x:\n",
    "            parts = x.split('-')\n",
    "            return (float(parts[0]) + float(parts[1])) / 2\n",
    "        else:\n",
    "            return float(x)\n",
    "    except:\n",
    "        return np.nan  # In case of unexpected bad data\n",
    "\n",
    "# Apply function\n",
    "df['total_sqft'] = df['total_sqft'].apply(convert_sqft)"
   ]
  },
  {
   "cell_type": "code",
   "execution_count": 17,
   "id": "afdc3698",
   "metadata": {},
   "outputs": [
    {
     "data": {
      "text/plain": [
       "area_type        0.000000\n",
       "availability     0.000000\n",
       "location         0.007508\n",
       "size             0.120120\n",
       "society         41.306306\n",
       "total_sqft       0.000000\n",
       "bath             0.000000\n",
       "balcony          0.000000\n",
       "price            0.000000\n",
       "dtype: float64"
      ]
     },
     "execution_count": 17,
     "metadata": {},
     "output_type": "execute_result"
    }
   ],
   "source": [
    "df['total_sqft']=df['total_sqft'].fillna(np.mean(df['total_sqft']))\n",
    "df.isnull().mean()*100"
   ]
  },
  {
   "cell_type": "code",
   "execution_count": 20,
   "id": "36d18cf2",
   "metadata": {},
   "outputs": [
    {
     "data": {
      "text/html": [
       "<div>\n",
       "<style scoped>\n",
       "    .dataframe tbody tr th:only-of-type {\n",
       "        vertical-align: middle;\n",
       "    }\n",
       "\n",
       "    .dataframe tbody tr th {\n",
       "        vertical-align: top;\n",
       "    }\n",
       "\n",
       "    .dataframe thead th {\n",
       "        text-align: right;\n",
       "    }\n",
       "</style>\n",
       "<table border=\"1\" class=\"dataframe\">\n",
       "  <thead>\n",
       "    <tr style=\"text-align: right;\">\n",
       "      <th></th>\n",
       "      <th>area_type</th>\n",
       "      <th>availability</th>\n",
       "      <th>location</th>\n",
       "      <th>size</th>\n",
       "      <th>society</th>\n",
       "      <th>total_sqft</th>\n",
       "      <th>bath</th>\n",
       "      <th>balcony</th>\n",
       "      <th>price</th>\n",
       "    </tr>\n",
       "  </thead>\n",
       "  <tbody>\n",
       "    <tr>\n",
       "      <th>10130</th>\n",
       "      <td>Built-up  Area</td>\n",
       "      <td>Ready To Move</td>\n",
       "      <td>Jigani</td>\n",
       "      <td>3 BHK</td>\n",
       "      <td>DLhtsen</td>\n",
       "      <td>1252.0</td>\n",
       "      <td>3.0</td>\n",
       "      <td>2.000000</td>\n",
       "      <td>59.0</td>\n",
       "    </tr>\n",
       "    <tr>\n",
       "      <th>4290</th>\n",
       "      <td>Super built-up  Area</td>\n",
       "      <td>Ready To Move</td>\n",
       "      <td>Hormavu</td>\n",
       "      <td>2 BHK</td>\n",
       "      <td>NStusD</td>\n",
       "      <td>1153.0</td>\n",
       "      <td>2.0</td>\n",
       "      <td>1.000000</td>\n",
       "      <td>65.0</td>\n",
       "    </tr>\n",
       "    <tr>\n",
       "      <th>4822</th>\n",
       "      <td>Plot  Area</td>\n",
       "      <td>Ready To Move</td>\n",
       "      <td>Upkar Layout</td>\n",
       "      <td>7 Bedroom</td>\n",
       "      <td>NaN</td>\n",
       "      <td>1200.0</td>\n",
       "      <td>7.0</td>\n",
       "      <td>3.000000</td>\n",
       "      <td>169.0</td>\n",
       "    </tr>\n",
       "    <tr>\n",
       "      <th>9185</th>\n",
       "      <td>Plot  Area</td>\n",
       "      <td>Ready To Move</td>\n",
       "      <td>Mico Layout</td>\n",
       "      <td>4 Bedroom</td>\n",
       "      <td>NaN</td>\n",
       "      <td>3600.0</td>\n",
       "      <td>4.0</td>\n",
       "      <td>1.584376</td>\n",
       "      <td>330.0</td>\n",
       "    </tr>\n",
       "    <tr>\n",
       "      <th>10303</th>\n",
       "      <td>Super built-up  Area</td>\n",
       "      <td>18-May</td>\n",
       "      <td>Electronic City Phase II</td>\n",
       "      <td>2 BHK</td>\n",
       "      <td>MJtroty</td>\n",
       "      <td>972.0</td>\n",
       "      <td>2.0</td>\n",
       "      <td>1.000000</td>\n",
       "      <td>40.0</td>\n",
       "    </tr>\n",
       "  </tbody>\n",
       "</table>\n",
       "</div>"
      ],
      "text/plain": [
       "                  area_type   availability                  location  \\\n",
       "10130        Built-up  Area  Ready To Move                    Jigani   \n",
       "4290   Super built-up  Area  Ready To Move                   Hormavu   \n",
       "4822             Plot  Area  Ready To Move              Upkar Layout   \n",
       "9185             Plot  Area  Ready To Move               Mico Layout   \n",
       "10303  Super built-up  Area         18-May  Electronic City Phase II   \n",
       "\n",
       "            size  society  total_sqft  bath   balcony  price  \n",
       "10130      3 BHK  DLhtsen      1252.0   3.0  2.000000   59.0  \n",
       "4290       2 BHK  NStusD       1153.0   2.0  1.000000   65.0  \n",
       "4822   7 Bedroom      NaN      1200.0   7.0  3.000000  169.0  \n",
       "9185   4 Bedroom      NaN      3600.0   4.0  1.584376  330.0  \n",
       "10303      2 BHK  MJtroty       972.0   2.0  1.000000   40.0  "
      ]
     },
     "execution_count": 20,
     "metadata": {},
     "output_type": "execute_result"
    }
   ],
   "source": [
    "df.sample(5)"
   ]
  },
  {
   "cell_type": "code",
   "execution_count": 21,
   "id": "e33edc2f",
   "metadata": {},
   "outputs": [],
   "source": [
    "df.drop(columns=['size','society'],inplace=True)"
   ]
  },
  {
   "cell_type": "code",
   "execution_count": 25,
   "id": "c136c1dd",
   "metadata": {},
   "outputs": [
    {
     "data": {
      "text/html": [
       "<div>\n",
       "<style scoped>\n",
       "    .dataframe tbody tr th:only-of-type {\n",
       "        vertical-align: middle;\n",
       "    }\n",
       "\n",
       "    .dataframe tbody tr th {\n",
       "        vertical-align: top;\n",
       "    }\n",
       "\n",
       "    .dataframe thead th {\n",
       "        text-align: right;\n",
       "    }\n",
       "</style>\n",
       "<table border=\"1\" class=\"dataframe\">\n",
       "  <thead>\n",
       "    <tr style=\"text-align: right;\">\n",
       "      <th></th>\n",
       "      <th>total_sqft</th>\n",
       "      <th>bath</th>\n",
       "      <th>balcony</th>\n",
       "      <th>price</th>\n",
       "    </tr>\n",
       "  </thead>\n",
       "  <tbody>\n",
       "    <tr>\n",
       "      <th>count</th>\n",
       "      <td>13320.000000</td>\n",
       "      <td>13320.000000</td>\n",
       "      <td>13320.000000</td>\n",
       "      <td>13320.000000</td>\n",
       "    </tr>\n",
       "    <tr>\n",
       "      <th>mean</th>\n",
       "      <td>1559.626694</td>\n",
       "      <td>2.692610</td>\n",
       "      <td>1.584376</td>\n",
       "      <td>112.565627</td>\n",
       "    </tr>\n",
       "    <tr>\n",
       "      <th>std</th>\n",
       "      <td>1236.264860</td>\n",
       "      <td>1.337777</td>\n",
       "      <td>0.798360</td>\n",
       "      <td>148.971674</td>\n",
       "    </tr>\n",
       "    <tr>\n",
       "      <th>min</th>\n",
       "      <td>1.000000</td>\n",
       "      <td>1.000000</td>\n",
       "      <td>0.000000</td>\n",
       "      <td>8.000000</td>\n",
       "    </tr>\n",
       "    <tr>\n",
       "      <th>25%</th>\n",
       "      <td>1100.000000</td>\n",
       "      <td>2.000000</td>\n",
       "      <td>1.000000</td>\n",
       "      <td>50.000000</td>\n",
       "    </tr>\n",
       "    <tr>\n",
       "      <th>50%</th>\n",
       "      <td>1279.500000</td>\n",
       "      <td>2.000000</td>\n",
       "      <td>2.000000</td>\n",
       "      <td>72.000000</td>\n",
       "    </tr>\n",
       "    <tr>\n",
       "      <th>75%</th>\n",
       "      <td>1678.000000</td>\n",
       "      <td>3.000000</td>\n",
       "      <td>2.000000</td>\n",
       "      <td>120.000000</td>\n",
       "    </tr>\n",
       "    <tr>\n",
       "      <th>max</th>\n",
       "      <td>52272.000000</td>\n",
       "      <td>40.000000</td>\n",
       "      <td>3.000000</td>\n",
       "      <td>3600.000000</td>\n",
       "    </tr>\n",
       "  </tbody>\n",
       "</table>\n",
       "</div>"
      ],
      "text/plain": [
       "         total_sqft          bath       balcony         price\n",
       "count  13320.000000  13320.000000  13320.000000  13320.000000\n",
       "mean    1559.626694      2.692610      1.584376    112.565627\n",
       "std     1236.264860      1.337777      0.798360    148.971674\n",
       "min        1.000000      1.000000      0.000000      8.000000\n",
       "25%     1100.000000      2.000000      1.000000     50.000000\n",
       "50%     1279.500000      2.000000      2.000000     72.000000\n",
       "75%     1678.000000      3.000000      2.000000    120.000000\n",
       "max    52272.000000     40.000000      3.000000   3600.000000"
      ]
     },
     "execution_count": 25,
     "metadata": {},
     "output_type": "execute_result"
    }
   ],
   "source": [
    "df.describe()"
   ]
  },
  {
   "cell_type": "code",
   "execution_count": 38,
   "id": "5aad4b23",
   "metadata": {},
   "outputs": [],
   "source": [
    "df=df[df['bath']<15]\n",
    "df=df[df['total_sqft']<30000]\n",
    "df=df[df['price']<2300]"
   ]
  },
  {
   "cell_type": "code",
   "execution_count": 39,
   "id": "05de3ef8",
   "metadata": {},
   "outputs": [
    {
     "data": {
      "text/html": [
       "<div>\n",
       "<style scoped>\n",
       "    .dataframe tbody tr th:only-of-type {\n",
       "        vertical-align: middle;\n",
       "    }\n",
       "\n",
       "    .dataframe tbody tr th {\n",
       "        vertical-align: top;\n",
       "    }\n",
       "\n",
       "    .dataframe thead th {\n",
       "        text-align: right;\n",
       "    }\n",
       "</style>\n",
       "<table border=\"1\" class=\"dataframe\">\n",
       "  <thead>\n",
       "    <tr style=\"text-align: right;\">\n",
       "      <th></th>\n",
       "      <th>total_sqft</th>\n",
       "      <th>bath</th>\n",
       "      <th>balcony</th>\n",
       "      <th>price</th>\n",
       "    </tr>\n",
       "  </thead>\n",
       "  <tbody>\n",
       "    <tr>\n",
       "      <th>count</th>\n",
       "      <td>13300.000000</td>\n",
       "      <td>13300.000000</td>\n",
       "      <td>13300.000000</td>\n",
       "      <td>13300.000000</td>\n",
       "    </tr>\n",
       "    <tr>\n",
       "      <th>mean</th>\n",
       "      <td>1538.205982</td>\n",
       "      <td>2.680944</td>\n",
       "      <td>1.584195</td>\n",
       "      <td>110.527229</td>\n",
       "    </tr>\n",
       "    <tr>\n",
       "      <th>std</th>\n",
       "      <td>938.232016</td>\n",
       "      <td>1.253614</td>\n",
       "      <td>0.798172</td>\n",
       "      <td>131.434317</td>\n",
       "    </tr>\n",
       "    <tr>\n",
       "      <th>min</th>\n",
       "      <td>1.000000</td>\n",
       "      <td>1.000000</td>\n",
       "      <td>0.000000</td>\n",
       "      <td>8.000000</td>\n",
       "    </tr>\n",
       "    <tr>\n",
       "      <th>25%</th>\n",
       "      <td>1100.000000</td>\n",
       "      <td>2.000000</td>\n",
       "      <td>1.000000</td>\n",
       "      <td>50.000000</td>\n",
       "    </tr>\n",
       "    <tr>\n",
       "      <th>50%</th>\n",
       "      <td>1278.000000</td>\n",
       "      <td>2.000000</td>\n",
       "      <td>2.000000</td>\n",
       "      <td>72.000000</td>\n",
       "    </tr>\n",
       "    <tr>\n",
       "      <th>75%</th>\n",
       "      <td>1674.000000</td>\n",
       "      <td>3.000000</td>\n",
       "      <td>2.000000</td>\n",
       "      <td>120.000000</td>\n",
       "    </tr>\n",
       "    <tr>\n",
       "      <th>max</th>\n",
       "      <td>26136.000000</td>\n",
       "      <td>14.000000</td>\n",
       "      <td>3.000000</td>\n",
       "      <td>2250.000000</td>\n",
       "    </tr>\n",
       "  </tbody>\n",
       "</table>\n",
       "</div>"
      ],
      "text/plain": [
       "         total_sqft          bath       balcony         price\n",
       "count  13300.000000  13300.000000  13300.000000  13300.000000\n",
       "mean    1538.205982      2.680944      1.584195    110.527229\n",
       "std      938.232016      1.253614      0.798172    131.434317\n",
       "min        1.000000      1.000000      0.000000      8.000000\n",
       "25%     1100.000000      2.000000      1.000000     50.000000\n",
       "50%     1278.000000      2.000000      2.000000     72.000000\n",
       "75%     1674.000000      3.000000      2.000000    120.000000\n",
       "max    26136.000000     14.000000      3.000000   2250.000000"
      ]
     },
     "execution_count": 39,
     "metadata": {},
     "output_type": "execute_result"
    }
   ],
   "source": [
    "df.describe()"
   ]
  },
  {
   "cell_type": "code",
   "execution_count": null,
   "id": "e11799e5",
   "metadata": {},
   "outputs": [],
   "source": [
    "df['price'] = np.log1p(df['price'])\n"
   ]
  },
  {
   "cell_type": "markdown",
   "id": "57420919",
   "metadata": {},
   "source": [
    "## Model Training"
   ]
  },
  {
   "cell_type": "code",
   "execution_count": 44,
   "id": "2365adce",
   "metadata": {},
   "outputs": [
    {
     "data": {
      "text/plain": [
       "area_type        object\n",
       "availability     object\n",
       "location         object\n",
       "total_sqft      float64\n",
       "bath            float64\n",
       "balcony         float64\n",
       "price           float64\n",
       "dtype: object"
      ]
     },
     "execution_count": 44,
     "metadata": {},
     "output_type": "execute_result"
    }
   ],
   "source": [
    "x=df.drop(columns='price')\n",
    "y=df['price']\n",
    "df.dtypes"
   ]
  },
  {
   "cell_type": "code",
   "execution_count": 46,
   "id": "a51c2b0e",
   "metadata": {},
   "outputs": [],
   "source": [
    "from sklearn.compose import ColumnTransformer\n",
    "from sklearn.preprocessing import OneHotEncoder,StandardScaler\n",
    "from sklearn.ensemble import RandomForestRegressor\n",
    "from sklearn.pipeline import Pipeline\n",
    "from sklearn.model_selection import train_test_split\n",
    "from sklearn.linear_model import LinearRegression\n",
    "import optuna\n",
    "import xgboost as xgb\n",
    "from sklearn.metrics import r2_score"
   ]
  },
  {
   "cell_type": "code",
   "execution_count": null,
   "id": "2b8fd8db",
   "metadata": {},
   "outputs": [],
   "source": [
    "categorical_cols = ['area_type', 'availability', 'location']\n",
    "numerical_cols = ['total_sqft', 'bath', 'balcony']\n",
    "\n",
    "preprocessor = ColumnTransformer(transformers=[\n",
    "    ('cat', OneHotEncoder(handle_unknown='ignore'), categorical_cols),\n",
    "    ('num', StandardScaler(), numerical_cols)\n",
    "])\n"
   ]
  },
  {
   "cell_type": "code",
   "execution_count": 49,
   "id": "d3d52ea1",
   "metadata": {},
   "outputs": [],
   "source": [
    "def objective(trial):\n",
    "    model_name = trial.suggest_categorical('model', ['LinearRegression', 'RandomForest', 'XGBoost'])\n",
    "    test_size = trial.suggest_float('test_size', 0.1, 0.3)\n",
    "    random_state = trial.suggest_int('random_state', 1, 100)\n",
    "\n",
    "    X_train, X_valid, y_train, y_valid = train_test_split(x, y, test_size=test_size, random_state=random_state)\n",
    "\n",
    "    if model_name == 'LinearRegression':\n",
    "        model = LinearRegression()\n",
    "        \n",
    "    elif model_name == 'RandomForest':\n",
    "        n_estimators = trial.suggest_int('rf_n_estimators', 100, 500)\n",
    "        max_depth = trial.suggest_int('rf_max_depth', 3, 20)\n",
    "        min_samples_split = trial.suggest_int('rf_min_samples_split', 2, 10)\n",
    "        min_samples_leaf = trial.suggest_int('rf_min_samples_leaf', 1, 5)\n",
    "        model = RandomForestRegressor(\n",
    "            n_estimators=n_estimators,\n",
    "            max_depth=max_depth,\n",
    "            min_samples_split=min_samples_split,\n",
    "            min_samples_leaf=min_samples_leaf,\n",
    "            random_state=random_state,\n",
    "            n_jobs=-1\n",
    "        )\n",
    "\n",
    "    elif model_name == 'XGBoost':\n",
    "        n_estimators = trial.suggest_int('xgb_n_estimators', 100, 500)\n",
    "        max_depth = trial.suggest_int('xgb_max_depth', 3, 15)\n",
    "        learning_rate = trial.suggest_float('xgb_learning_rate', 0.01, 0.3)\n",
    "        subsample = trial.suggest_float('xgb_subsample', 0.5, 1.0)\n",
    "        colsample_bytree = trial.suggest_float('xgb_colsample_bytree', 0.5, 1.0)\n",
    "        \n",
    "        model = xgb.XGBRegressor(\n",
    "            n_estimators=n_estimators,\n",
    "            max_depth=max_depth,\n",
    "            learning_rate=learning_rate,\n",
    "            subsample=subsample,\n",
    "            colsample_bytree=colsample_bytree,\n",
    "            random_state=random_state,\n",
    "            n_jobs=-1\n",
    "        )\n",
    "\n",
    "    pipe = Pipeline([\n",
    "        ('preprocessor', preprocessor),\n",
    "        ('model', model)\n",
    "    ])\n",
    "\n",
    "    pipe.fit(X_train, y_train)\n",
    "    y_pred = pipe.predict(X_valid)\n",
    "    score=r2_score(y_valid,y_pred)\n",
    "    return score"
   ]
  },
  {
   "cell_type": "code",
   "execution_count": 50,
   "id": "243aa64f",
   "metadata": {},
   "outputs": [
    {
     "name": "stderr",
     "output_type": "stream",
     "text": [
      "[I 2025-07-10 18:07:30,337] A new study created in memory with name: no-name-12f2b9fb-2dac-4a32-8c22-978c4122e6d5\n",
      "Best trial: 0. Best value: 0.760051:   1%|          | 1/100 [00:06<09:58,  6.04s/it]"
     ]
    },
    {
     "name": "stdout",
     "output_type": "stream",
     "text": [
      "[I 2025-07-10 18:07:36,379] Trial 0 finished with value: 0.760051154918895 and parameters: {'model': 'RandomForest', 'test_size': 0.24519675941096514, 'random_state': 53, 'rf_n_estimators': 500, 'rf_max_depth': 12, 'rf_min_samples_split': 5, 'rf_min_samples_leaf': 3}. Best is trial 0 with value: 0.760051154918895.\n"
     ]
    },
    {
     "name": "stderr",
     "output_type": "stream",
     "text": [
      "Best trial: 1. Best value: 0.78139:   3%|▎         | 3/100 [00:12<05:28,  3.39s/it] "
     ]
    },
    {
     "name": "stdout",
     "output_type": "stream",
     "text": [
      "[I 2025-07-10 18:07:42,583] Trial 1 finished with value: 0.7813901305188049 and parameters: {'model': 'RandomForest', 'test_size': 0.14082104874021403, 'random_state': 20, 'rf_n_estimators': 390, 'rf_max_depth': 14, 'rf_min_samples_split': 9, 'rf_min_samples_leaf': 4}. Best is trial 1 with value: 0.7813901305188049.\n",
      "[I 2025-07-10 18:07:42,699] Trial 2 finished with value: 0.7415600045030983 and parameters: {'model': 'LinearRegression', 'test_size': 0.22350813059052074, 'random_state': 19}. Best is trial 1 with value: 0.7813901305188049.\n"
     ]
    },
    {
     "name": "stderr",
     "output_type": "stream",
     "text": [
      "Best trial: 3. Best value: 0.832156:   6%|▌         | 6/100 [00:13<01:46,  1.13s/it]"
     ]
    },
    {
     "name": "stdout",
     "output_type": "stream",
     "text": [
      "[I 2025-07-10 18:07:43,324] Trial 3 finished with value: 0.8321559155971131 and parameters: {'model': 'XGBoost', 'test_size': 0.16194088139124296, 'random_state': 55, 'xgb_n_estimators': 286, 'xgb_max_depth': 9, 'xgb_learning_rate': 0.27382980583738653, 'xgb_subsample': 0.639673080420843, 'xgb_colsample_bytree': 0.7481005033685857}. Best is trial 3 with value: 0.8321559155971131.\n",
      "[I 2025-07-10 18:07:43,418] Trial 4 finished with value: 0.6656836850789121 and parameters: {'model': 'LinearRegression', 'test_size': 0.27063162593533735, 'random_state': 61}. Best is trial 3 with value: 0.8321559155971131.\n",
      "[I 2025-07-10 18:07:43,522] Trial 5 finished with value: 0.7677800315407113 and parameters: {'model': 'LinearRegression', 'test_size': 0.10904343365130226, 'random_state': 25}. Best is trial 3 with value: 0.8321559155971131.\n"
     ]
    },
    {
     "name": "stderr",
     "output_type": "stream",
     "text": [
      "Best trial: 3. Best value: 0.832156:   8%|▊         | 8/100 [00:15<01:37,  1.06s/it]"
     ]
    },
    {
     "name": "stdout",
     "output_type": "stream",
     "text": [
      "[I 2025-07-10 18:07:45,726] Trial 6 finished with value: 0.8216170297587255 and parameters: {'model': 'XGBoost', 'test_size': 0.1857452733196637, 'random_state': 42, 'xgb_n_estimators': 464, 'xgb_max_depth': 14, 'xgb_learning_rate': 0.03211828177402382, 'xgb_subsample': 0.9649240828764993, 'xgb_colsample_bytree': 0.5498904494734638}. Best is trial 3 with value: 0.8321559155971131.\n",
      "[I 2025-07-10 18:07:45,846] Trial 7 finished with value: 0.7491279255083849 and parameters: {'model': 'LinearRegression', 'test_size': 0.15916280359581272, 'random_state': 54}. Best is trial 3 with value: 0.8321559155971131.\n"
     ]
    },
    {
     "name": "stderr",
     "output_type": "stream",
     "text": [
      "Best trial: 3. Best value: 0.832156:   9%|▉         | 9/100 [00:18<02:31,  1.67s/it]"
     ]
    },
    {
     "name": "stdout",
     "output_type": "stream",
     "text": [
      "[I 2025-07-10 18:07:49,036] Trial 8 finished with value: 0.7664895244393001 and parameters: {'model': 'RandomForest', 'test_size': 0.19137814642469872, 'random_state': 74, 'rf_n_estimators': 209, 'rf_max_depth': 14, 'rf_min_samples_split': 7, 'rf_min_samples_leaf': 2}. Best is trial 3 with value: 0.8321559155971131.\n"
     ]
    },
    {
     "name": "stderr",
     "output_type": "stream",
     "text": [
      "Best trial: 3. Best value: 0.832156:  10%|█         | 10/100 [00:22<03:23,  2.26s/it]"
     ]
    },
    {
     "name": "stdout",
     "output_type": "stream",
     "text": [
      "[I 2025-07-10 18:07:52,744] Trial 9 finished with value: 0.7465758851525188 and parameters: {'model': 'RandomForest', 'test_size': 0.15607801169273702, 'random_state': 38, 'rf_n_estimators': 236, 'rf_max_depth': 14, 'rf_min_samples_split': 3, 'rf_min_samples_leaf': 3}. Best is trial 3 with value: 0.8321559155971131.\n"
     ]
    },
    {
     "name": "stderr",
     "output_type": "stream",
     "text": [
      "Best trial: 3. Best value: 0.832156:  11%|█         | 11/100 [00:22<02:30,  1.69s/it]"
     ]
    },
    {
     "name": "stdout",
     "output_type": "stream",
     "text": [
      "[I 2025-07-10 18:07:53,052] Trial 10 finished with value: 0.8103030050895459 and parameters: {'model': 'XGBoost', 'test_size': 0.2961868925378458, 'random_state': 93, 'xgb_n_estimators': 171, 'xgb_max_depth': 5, 'xgb_learning_rate': 0.29117361376116324, 'xgb_subsample': 0.5387758658444355, 'xgb_colsample_bytree': 0.8837640595233373}. Best is trial 3 with value: 0.8321559155971131.\n"
     ]
    },
    {
     "name": "stderr",
     "output_type": "stream",
     "text": [
      "Best trial: 3. Best value: 0.832156:  12%|█▏        | 12/100 [00:25<02:56,  2.00s/it]"
     ]
    },
    {
     "name": "stdout",
     "output_type": "stream",
     "text": [
      "[I 2025-07-10 18:07:55,808] Trial 11 finished with value: 0.8066527808572865 and parameters: {'model': 'XGBoost', 'test_size': 0.1932429819276475, 'random_state': 37, 'xgb_n_estimators': 481, 'xgb_max_depth': 15, 'xgb_learning_rate': 0.023300320337760496, 'xgb_subsample': 0.9734731482304712, 'xgb_colsample_bytree': 0.5009892379418948}. Best is trial 3 with value: 0.8321559155971131.\n"
     ]
    },
    {
     "name": "stderr",
     "output_type": "stream",
     "text": [
      "Best trial: 12. Best value: 0.834024:  13%|█▎        | 13/100 [00:26<02:27,  1.70s/it]"
     ]
    },
    {
     "name": "stdout",
     "output_type": "stream",
     "text": [
      "[I 2025-07-10 18:07:56,775] Trial 12 finished with value: 0.8340241660691973 and parameters: {'model': 'XGBoost', 'test_size': 0.1748910166922801, 'random_state': 1, 'xgb_n_estimators': 342, 'xgb_max_depth': 11, 'xgb_learning_rate': 0.20841903504609047, 'xgb_subsample': 0.6865472635363414, 'xgb_colsample_bytree': 0.609363488577416}. Best is trial 12 with value: 0.8340241660691973.\n"
     ]
    },
    {
     "name": "stderr",
     "output_type": "stream",
     "text": [
      "Best trial: 13. Best value: 0.834815:  14%|█▍        | 14/100 [00:27<01:59,  1.39s/it]"
     ]
    },
    {
     "name": "stdout",
     "output_type": "stream",
     "text": [
      "[I 2025-07-10 18:07:57,447] Trial 13 finished with value: 0.8348149573489659 and parameters: {'model': 'XGBoost', 'test_size': 0.12093898829150075, 'random_state': 8, 'xgb_n_estimators': 295, 'xgb_max_depth': 9, 'xgb_learning_rate': 0.2482678597108457, 'xgb_subsample': 0.6615746064400199, 'xgb_colsample_bytree': 0.7082861612509845}. Best is trial 13 with value: 0.8348149573489659.\n"
     ]
    },
    {
     "name": "stderr",
     "output_type": "stream",
     "text": [
      "Best trial: 14. Best value: 0.839356:  15%|█▌        | 15/100 [00:27<01:43,  1.22s/it]"
     ]
    },
    {
     "name": "stdout",
     "output_type": "stream",
     "text": [
      "[I 2025-07-10 18:07:58,263] Trial 14 finished with value: 0.8393559833129755 and parameters: {'model': 'XGBoost', 'test_size': 0.105858236945135, 'random_state': 4, 'xgb_n_estimators': 326, 'xgb_max_depth': 10, 'xgb_learning_rate': 0.1869594340630223, 'xgb_subsample': 0.7492915335115112, 'xgb_colsample_bytree': 0.6960725350094426}. Best is trial 14 with value: 0.8393559833129755.\n"
     ]
    },
    {
     "name": "stderr",
     "output_type": "stream",
     "text": [
      "Best trial: 14. Best value: 0.839356:  16%|█▌        | 16/100 [00:28<01:28,  1.06s/it]"
     ]
    },
    {
     "name": "stdout",
     "output_type": "stream",
     "text": [
      "[I 2025-07-10 18:07:58,937] Trial 15 finished with value: 0.8286687029283243 and parameters: {'model': 'XGBoost', 'test_size': 0.10175140872377585, 'random_state': 4, 'xgb_n_estimators': 302, 'xgb_max_depth': 8, 'xgb_learning_rate': 0.16044681858319493, 'xgb_subsample': 0.7969425843147975, 'xgb_colsample_bytree': 0.7257141831837839}. Best is trial 14 with value: 0.8393559833129755.\n"
     ]
    },
    {
     "name": "stderr",
     "output_type": "stream",
     "text": [
      "Best trial: 14. Best value: 0.839356:  17%|█▋        | 17/100 [00:29<01:16,  1.08it/s]"
     ]
    },
    {
     "name": "stdout",
     "output_type": "stream",
     "text": [
      "[I 2025-07-10 18:07:59,554] Trial 16 finished with value: 0.8279134472118959 and parameters: {'model': 'XGBoost', 'test_size': 0.1265909836007366, 'random_state': 11, 'xgb_n_estimators': 236, 'xgb_max_depth': 10, 'xgb_learning_rate': 0.2021445143735109, 'xgb_subsample': 0.8162814135985126, 'xgb_colsample_bytree': 0.6815465638050865}. Best is trial 14 with value: 0.8393559833129755.\n"
     ]
    },
    {
     "name": "stderr",
     "output_type": "stream",
     "text": [
      "Best trial: 14. Best value: 0.839356:  18%|█▊        | 18/100 [00:29<01:05,  1.25it/s]"
     ]
    },
    {
     "name": "stdout",
     "output_type": "stream",
     "text": [
      "[I 2025-07-10 18:08:00,066] Trial 17 finished with value: 0.819244814230317 and parameters: {'model': 'XGBoost', 'test_size': 0.1246653511606153, 'random_state': 27, 'xgb_n_estimators': 387, 'xgb_max_depth': 5, 'xgb_learning_rate': 0.22583910427830406, 'xgb_subsample': 0.7000897422381608, 'xgb_colsample_bytree': 0.8346376916371054}. Best is trial 14 with value: 0.8393559833129755.\n"
     ]
    },
    {
     "name": "stderr",
     "output_type": "stream",
     "text": [
      "Best trial: 14. Best value: 0.839356:  19%|█▉        | 19/100 [00:30<00:53,  1.52it/s]"
     ]
    },
    {
     "name": "stdout",
     "output_type": "stream",
     "text": [
      "[I 2025-07-10 18:08:00,393] Trial 18 finished with value: 0.8025050515971682 and parameters: {'model': 'XGBoost', 'test_size': 0.1317818320584879, 'random_state': 12, 'xgb_n_estimators': 117, 'xgb_max_depth': 7, 'xgb_learning_rate': 0.10669811178100522, 'xgb_subsample': 0.5846427275619854, 'xgb_colsample_bytree': 0.9995870032377859}. Best is trial 14 with value: 0.8393559833129755.\n"
     ]
    },
    {
     "name": "stderr",
     "output_type": "stream",
     "text": [
      "Best trial: 14. Best value: 0.839356:  20%|██        | 20/100 [00:31<01:07,  1.18it/s]"
     ]
    },
    {
     "name": "stdout",
     "output_type": "stream",
     "text": [
      "[I 2025-07-10 18:08:01,668] Trial 19 finished with value: 0.8306337310270995 and parameters: {'model': 'XGBoost', 'test_size': 0.22550204267568827, 'random_state': 77, 'xgb_n_estimators': 391, 'xgb_max_depth': 12, 'xgb_learning_rate': 0.12293347029322695, 'xgb_subsample': 0.8388936971369181, 'xgb_colsample_bytree': 0.6467949082173973}. Best is trial 14 with value: 0.8393559833129755.\n"
     ]
    },
    {
     "name": "stderr",
     "output_type": "stream",
     "text": [
      "Best trial: 14. Best value: 0.839356:  21%|██        | 21/100 [00:32<01:05,  1.20it/s]"
     ]
    },
    {
     "name": "stdout",
     "output_type": "stream",
     "text": [
      "[I 2025-07-10 18:08:02,469] Trial 20 finished with value: 0.8199737294875855 and parameters: {'model': 'XGBoost', 'test_size': 0.1040562582823286, 'random_state': 11, 'xgb_n_estimators': 228, 'xgb_max_depth': 12, 'xgb_learning_rate': 0.2502590265319665, 'xgb_subsample': 0.7378529956518888, 'xgb_colsample_bytree': 0.8198351197801699}. Best is trial 14 with value: 0.8393559833129755.\n"
     ]
    },
    {
     "name": "stderr",
     "output_type": "stream",
     "text": [
      "Best trial: 14. Best value: 0.839356:  22%|██▏       | 22/100 [00:33<01:05,  1.19it/s]"
     ]
    },
    {
     "name": "stdout",
     "output_type": "stream",
     "text": [
      "[I 2025-07-10 18:08:03,338] Trial 21 finished with value: 0.8387851669387404 and parameters: {'model': 'XGBoost', 'test_size': 0.14224469426066533, 'random_state': 1, 'xgb_n_estimators': 343, 'xgb_max_depth': 11, 'xgb_learning_rate': 0.1730662118217477, 'xgb_subsample': 0.6685907396868596, 'xgb_colsample_bytree': 0.6217305526176958}. Best is trial 14 with value: 0.8393559833129755.\n"
     ]
    },
    {
     "name": "stderr",
     "output_type": "stream",
     "text": [
      "Best trial: 14. Best value: 0.839356:  23%|██▎       | 23/100 [00:33<01:01,  1.26it/s]"
     ]
    },
    {
     "name": "stdout",
     "output_type": "stream",
     "text": [
      "[I 2025-07-10 18:08:04,016] Trial 22 finished with value: 0.8205188691415712 and parameters: {'model': 'XGBoost', 'test_size': 0.14004292955659478, 'random_state': 3, 'xgb_n_estimators': 363, 'xgb_max_depth': 7, 'xgb_learning_rate': 0.17279728260227062, 'xgb_subsample': 0.6349720689738927, 'xgb_colsample_bytree': 0.6052443277896886}. Best is trial 14 with value: 0.8393559833129755.\n"
     ]
    },
    {
     "name": "stderr",
     "output_type": "stream",
     "text": [
      "Best trial: 23. Best value: 0.848627:  24%|██▍       | 24/100 [00:34<01:01,  1.24it/s]"
     ]
    },
    {
     "name": "stdout",
     "output_type": "stream",
     "text": [
      "[I 2025-07-10 18:08:04,846] Trial 23 finished with value: 0.8486272601257181 and parameters: {'model': 'XGBoost', 'test_size': 0.12195242919488507, 'random_state': 31, 'xgb_n_estimators': 284, 'xgb_max_depth': 10, 'xgb_learning_rate': 0.18299928369141574, 'xgb_subsample': 0.640256533194376, 'xgb_colsample_bytree': 0.6837741490541319}. Best is trial 23 with value: 0.8486272601257181.\n"
     ]
    },
    {
     "name": "stderr",
     "output_type": "stream",
     "text": [
      "Best trial: 23. Best value: 0.848627:  25%|██▌       | 25/100 [00:35<01:02,  1.20it/s]"
     ]
    },
    {
     "name": "stdout",
     "output_type": "stream",
     "text": [
      "[I 2025-07-10 18:08:05,735] Trial 24 finished with value: 0.8431937869747086 and parameters: {'model': 'XGBoost', 'test_size': 0.1450495087591512, 'random_state': 31, 'xgb_n_estimators': 249, 'xgb_max_depth': 12, 'xgb_learning_rate': 0.10444293563555346, 'xgb_subsample': 0.7560017775907633, 'xgb_colsample_bytree': 0.6323059229264987}. Best is trial 23 with value: 0.8486272601257181.\n"
     ]
    },
    {
     "name": "stderr",
     "output_type": "stream",
     "text": [
      "Best trial: 25. Best value: 0.854209:  26%|██▌       | 26/100 [00:36<01:12,  1.03it/s]"
     ]
    },
    {
     "name": "stdout",
     "output_type": "stream",
     "text": [
      "[I 2025-07-10 18:08:07,048] Trial 25 finished with value: 0.8542093645634888 and parameters: {'model': 'XGBoost', 'test_size': 0.11852221282861483, 'random_state': 30, 'xgb_n_estimators': 238, 'xgb_max_depth': 13, 'xgb_learning_rate': 0.0969608120284654, 'xgb_subsample': 0.7648265603125547, 'xgb_colsample_bytree': 0.7901851929461279}. Best is trial 25 with value: 0.8542093645634888.\n"
     ]
    },
    {
     "name": "stderr",
     "output_type": "stream",
     "text": [
      "Best trial: 25. Best value: 0.854209:  27%|██▋       | 27/100 [00:38<01:17,  1.07s/it]"
     ]
    },
    {
     "name": "stdout",
     "output_type": "stream",
     "text": [
      "[I 2025-07-10 18:08:08,335] Trial 26 finished with value: 0.8441919285488233 and parameters: {'model': 'XGBoost', 'test_size': 0.15158953822015772, 'random_state': 30, 'xgb_n_estimators': 234, 'xgb_max_depth': 13, 'xgb_learning_rate': 0.07447425750632318, 'xgb_subsample': 0.8950718956857038, 'xgb_colsample_bytree': 0.8008052630694469}. Best is trial 25 with value: 0.8542093645634888.\n"
     ]
    },
    {
     "name": "stderr",
     "output_type": "stream",
     "text": [
      "Best trial: 25. Best value: 0.854209:  29%|██▉       | 29/100 [00:39<00:59,  1.20it/s]"
     ]
    },
    {
     "name": "stdout",
     "output_type": "stream",
     "text": [
      "[I 2025-07-10 18:08:09,613] Trial 27 finished with value: 0.8117815223021346 and parameters: {'model': 'XGBoost', 'test_size': 0.17073471236980584, 'random_state': 45, 'xgb_n_estimators': 185, 'xgb_max_depth': 14, 'xgb_learning_rate': 0.06752120840137452, 'xgb_subsample': 0.8807197326700129, 'xgb_colsample_bytree': 0.8082279932775781}. Best is trial 25 with value: 0.8542093645634888.\n",
      "[I 2025-07-10 18:08:09,750] Trial 28 finished with value: 0.752089199364399 and parameters: {'model': 'LinearRegression', 'test_size': 0.11767129001619585, 'random_state': 31}. Best is trial 25 with value: 0.8542093645634888.\n"
     ]
    },
    {
     "name": "stderr",
     "output_type": "stream",
     "text": [
      "Best trial: 25. Best value: 0.854209:  30%|███       | 30/100 [00:39<00:48,  1.44it/s]"
     ]
    },
    {
     "name": "stdout",
     "output_type": "stream",
     "text": [
      "[I 2025-07-10 18:08:10,113] Trial 29 finished with value: 0.68598720909515 and parameters: {'model': 'RandomForest', 'test_size': 0.21053470060087767, 'random_state': 18, 'rf_n_estimators': 108, 'rf_max_depth': 3, 'rf_min_samples_split': 2, 'rf_min_samples_leaf': 5}. Best is trial 25 with value: 0.8542093645634888.\n"
     ]
    },
    {
     "name": "stderr",
     "output_type": "stream",
     "text": [
      "Best trial: 25. Best value: 0.854209:  31%|███       | 31/100 [00:48<03:33,  3.09s/it]"
     ]
    },
    {
     "name": "stdout",
     "output_type": "stream",
     "text": [
      "[I 2025-07-10 18:08:18,793] Trial 30 finished with value: 0.7803803933190717 and parameters: {'model': 'RandomForest', 'test_size': 0.15258693581928134, 'random_state': 50, 'rf_n_estimators': 370, 'rf_max_depth': 20, 'rf_min_samples_split': 10, 'rf_min_samples_leaf': 1}. Best is trial 25 with value: 0.8542093645634888.\n"
     ]
    },
    {
     "name": "stderr",
     "output_type": "stream",
     "text": [
      "Best trial: 25. Best value: 0.854209:  32%|███▏      | 32/100 [00:49<02:50,  2.51s/it]"
     ]
    },
    {
     "name": "stdout",
     "output_type": "stream",
     "text": [
      "[I 2025-07-10 18:08:19,951] Trial 31 finished with value: 0.8427739340922136 and parameters: {'model': 'XGBoost', 'test_size': 0.1415666473612691, 'random_state': 31, 'xgb_n_estimators': 242, 'xgb_max_depth': 13, 'xgb_learning_rate': 0.10353639269231356, 'xgb_subsample': 0.8737087574363572, 'xgb_colsample_bytree': 0.7801114784842904}. Best is trial 25 with value: 0.8542093645634888.\n"
     ]
    },
    {
     "name": "stderr",
     "output_type": "stream",
     "text": [
      "Best trial: 25. Best value: 0.854209:  33%|███▎      | 33/100 [00:51<02:31,  2.26s/it]"
     ]
    },
    {
     "name": "stdout",
     "output_type": "stream",
     "text": [
      "[I 2025-07-10 18:08:21,630] Trial 32 finished with value: 0.8354748017838075 and parameters: {'model': 'XGBoost', 'test_size': 0.13319345364073468, 'random_state': 33, 'xgb_n_estimators': 262, 'xgb_max_depth': 13, 'xgb_learning_rate': 0.07083581865080274, 'xgb_subsample': 0.9097812508967011, 'xgb_colsample_bytree': 0.8867731622625089}. Best is trial 25 with value: 0.8542093645634888.\n"
     ]
    },
    {
     "name": "stderr",
     "output_type": "stream",
     "text": [
      "Best trial: 25. Best value: 0.854209:  34%|███▍      | 34/100 [00:52<02:02,  1.85s/it]"
     ]
    },
    {
     "name": "stdout",
     "output_type": "stream",
     "text": [
      "[I 2025-07-10 18:08:22,526] Trial 33 finished with value: 0.8022337422508679 and parameters: {'model': 'XGBoost', 'test_size': 0.14864374897427146, 'random_state': 24, 'xgb_n_estimators': 190, 'xgb_max_depth': 12, 'xgb_learning_rate': 0.12732427597514606, 'xgb_subsample': 0.7910881927506812, 'xgb_colsample_bytree': 0.7809979683575187}. Best is trial 25 with value: 0.8542093645634888.\n"
     ]
    },
    {
     "name": "stderr",
     "output_type": "stream",
     "text": [
      "Best trial: 25. Best value: 0.854209:  35%|███▌      | 35/100 [00:53<01:54,  1.76s/it]"
     ]
    },
    {
     "name": "stdout",
     "output_type": "stream",
     "text": [
      "[I 2025-07-10 18:08:24,078] Trial 34 finished with value: 0.8093948091875027 and parameters: {'model': 'XGBoost', 'test_size': 0.17106512585798955, 'random_state': 19, 'xgb_n_estimators': 212, 'xgb_max_depth': 15, 'xgb_learning_rate': 0.07331901451159772, 'xgb_subsample': 0.7271918788227332, 'xgb_colsample_bytree': 0.8759028009716006}. Best is trial 25 with value: 0.8542093645634888.\n"
     ]
    },
    {
     "name": "stderr",
     "output_type": "stream",
     "text": [
      "Best trial: 25. Best value: 0.854209:  37%|███▋      | 37/100 [00:54<01:05,  1.04s/it]"
     ]
    },
    {
     "name": "stdout",
     "output_type": "stream",
     "text": [
      "[I 2025-07-10 18:08:24,723] Trial 35 finished with value: 0.8234764611863694 and parameters: {'model': 'XGBoost', 'test_size': 0.1172168032650408, 'random_state': 47, 'xgb_n_estimators': 145, 'xgb_max_depth': 13, 'xgb_learning_rate': 0.13697317271587345, 'xgb_subsample': 0.5918368101430183, 'xgb_colsample_bytree': 0.6633772045001228}. Best is trial 25 with value: 0.8542093645634888.\n",
      "[I 2025-07-10 18:08:24,863] Trial 36 finished with value: 0.718466111225351 and parameters: {'model': 'LinearRegression', 'test_size': 0.11475847699593152, 'random_state': 64}. Best is trial 25 with value: 0.8542093645634888.\n"
     ]
    },
    {
     "name": "stderr",
     "output_type": "stream",
     "text": [
      "Best trial: 25. Best value: 0.854209:  38%|███▊      | 38/100 [00:55<00:59,  1.03it/s]"
     ]
    },
    {
     "name": "stdout",
     "output_type": "stream",
     "text": [
      "[I 2025-07-10 18:08:25,658] Trial 37 finished with value: 0.8060514272858414 and parameters: {'model': 'XGBoost', 'test_size': 0.25024670997109427, 'random_state': 38, 'xgb_n_estimators': 271, 'xgb_max_depth': 11, 'xgb_learning_rate': 0.088807682422157, 'xgb_subsample': 0.5006522820246726, 'xgb_colsample_bytree': 0.7572293209860268}. Best is trial 25 with value: 0.8542093645634888.\n"
     ]
    },
    {
     "name": "stderr",
     "output_type": "stream",
     "text": [
      "Best trial: 25. Best value: 0.854209:  40%|████      | 40/100 [00:55<00:36,  1.63it/s]"
     ]
    },
    {
     "name": "stdout",
     "output_type": "stream",
     "text": [
      "[I 2025-07-10 18:08:26,097] Trial 38 finished with value: 0.706959024815009 and parameters: {'model': 'RandomForest', 'test_size': 0.1787392269136126, 'random_state': 23, 'rf_n_estimators': 106, 'rf_max_depth': 4, 'rf_min_samples_split': 6, 'rf_min_samples_leaf': 1}. Best is trial 25 with value: 0.8542093645634888.\n",
      "[I 2025-07-10 18:08:26,257] Trial 39 finished with value: 0.7296658306704288 and parameters: {'model': 'LinearRegression', 'test_size': 0.16145922423243148, 'random_state': 17}. Best is trial 25 with value: 0.8542093645634888.\n"
     ]
    },
    {
     "name": "stderr",
     "output_type": "stream",
     "text": [
      "Best trial: 25. Best value: 0.854209:  41%|████      | 41/100 [00:56<00:29,  1.98it/s]"
     ]
    },
    {
     "name": "stdout",
     "output_type": "stream",
     "text": [
      "[I 2025-07-10 18:08:26,507] Trial 40 finished with value: 0.7605672865187363 and parameters: {'model': 'XGBoost', 'test_size': 0.13374044045124953, 'random_state': 42, 'xgb_n_estimators': 209, 'xgb_max_depth': 3, 'xgb_learning_rate': 0.044556907046996524, 'xgb_subsample': 0.7731666766768449, 'xgb_colsample_bytree': 0.575178922164558}. Best is trial 25 with value: 0.8542093645634888.\n"
     ]
    },
    {
     "name": "stderr",
     "output_type": "stream",
     "text": [
      "Best trial: 25. Best value: 0.854209:  42%|████▏     | 42/100 [00:57<00:46,  1.24it/s]"
     ]
    },
    {
     "name": "stdout",
     "output_type": "stream",
     "text": [
      "[I 2025-07-10 18:08:28,014] Trial 41 finished with value: 0.835937025188232 and parameters: {'model': 'XGBoost', 'test_size': 0.14257023624186477, 'random_state': 32, 'xgb_n_estimators': 259, 'xgb_max_depth': 13, 'xgb_learning_rate': 0.10682069176008635, 'xgb_subsample': 0.8739963864432903, 'xgb_colsample_bytree': 0.7843178877558035}. Best is trial 25 with value: 0.8542093645634888.\n"
     ]
    },
    {
     "name": "stderr",
     "output_type": "stream",
     "text": [
      "Best trial: 25. Best value: 0.854209:  43%|████▎     | 43/100 [00:59<00:57,  1.01s/it]"
     ]
    },
    {
     "name": "stdout",
     "output_type": "stream",
     "text": [
      "[I 2025-07-10 18:08:29,484] Trial 42 finished with value: 0.8369505206333592 and parameters: {'model': 'XGBoost', 'test_size': 0.14929806803154755, 'random_state': 28, 'xgb_n_estimators': 248, 'xgb_max_depth': 14, 'xgb_learning_rate': 0.09069268919628594, 'xgb_subsample': 0.9271028396019261, 'xgb_colsample_bytree': 0.7383801001465715}. Best is trial 25 with value: 0.8542093645634888.\n"
     ]
    },
    {
     "name": "stderr",
     "output_type": "stream",
     "text": [
      "Best trial: 25. Best value: 0.854209:  44%|████▍     | 44/100 [01:00<00:56,  1.01s/it]"
     ]
    },
    {
     "name": "stdout",
     "output_type": "stream",
     "text": [
      "[I 2025-07-10 18:08:30,497] Trial 43 finished with value: 0.8099762819753121 and parameters: {'model': 'XGBoost', 'test_size': 0.16526351908200235, 'random_state': 35, 'xgb_n_estimators': 228, 'xgb_max_depth': 13, 'xgb_learning_rate': 0.14884194979988974, 'xgb_subsample': 0.8441303248860321, 'xgb_colsample_bytree': 0.8433429864938577}. Best is trial 25 with value: 0.8542093645634888.\n"
     ]
    },
    {
     "name": "stderr",
     "output_type": "stream",
     "text": [
      "Best trial: 25. Best value: 0.854209:  45%|████▌     | 45/100 [01:01<01:07,  1.22s/it]"
     ]
    },
    {
     "name": "stdout",
     "output_type": "stream",
     "text": [
      "[I 2025-07-10 18:08:32,216] Trial 44 finished with value: 0.8128720201618881 and parameters: {'model': 'XGBoost', 'test_size': 0.11227228761858786, 'random_state': 42, 'xgb_n_estimators': 306, 'xgb_max_depth': 12, 'xgb_learning_rate': 0.052793435256993274, 'xgb_subsample': 0.92866323219495, 'xgb_colsample_bytree': 0.7820112974501415}. Best is trial 25 with value: 0.8542093645634888.\n"
     ]
    },
    {
     "name": "stderr",
     "output_type": "stream",
     "text": [
      "Best trial: 25. Best value: 0.854209:  47%|████▋     | 47/100 [01:03<00:49,  1.07it/s]"
     ]
    },
    {
     "name": "stdout",
     "output_type": "stream",
     "text": [
      "[I 2025-07-10 18:08:33,581] Trial 45 finished with value: 0.8252880881145495 and parameters: {'model': 'XGBoost', 'test_size': 0.20789336978437334, 'random_state': 60, 'xgb_n_estimators': 276, 'xgb_max_depth': 10, 'xgb_learning_rate': 0.1026798666807645, 'xgb_subsample': 0.8739300167529569, 'xgb_colsample_bytree': 0.7483902467463364}. Best is trial 25 with value: 0.8542093645634888.\n",
      "[I 2025-07-10 18:08:33,746] Trial 46 finished with value: 0.7314449257916575 and parameters: {'model': 'LinearRegression', 'test_size': 0.12760433206944094, 'random_state': 29}. Best is trial 25 with value: 0.8542093645634888.\n"
     ]
    },
    {
     "name": "stderr",
     "output_type": "stream",
     "text": [
      "Best trial: 25. Best value: 0.854209:  48%|████▊     | 48/100 [01:07<01:37,  1.87s/it]"
     ]
    },
    {
     "name": "stdout",
     "output_type": "stream",
     "text": [
      "[I 2025-07-10 18:08:37,803] Trial 47 finished with value: 0.7762502539909357 and parameters: {'model': 'RandomForest', 'test_size': 0.13789636207526543, 'random_state': 22, 'rf_n_estimators': 480, 'rf_max_depth': 8, 'rf_min_samples_split': 4, 'rf_min_samples_leaf': 5}. Best is trial 25 with value: 0.8542093645634888.\n"
     ]
    },
    {
     "name": "stderr",
     "output_type": "stream",
     "text": [
      "Best trial: 25. Best value: 0.854209:  49%|████▉     | 49/100 [01:08<01:25,  1.68s/it]"
     ]
    },
    {
     "name": "stdout",
     "output_type": "stream",
     "text": [
      "[I 2025-07-10 18:08:39,028] Trial 48 finished with value: 0.8373857188429272 and parameters: {'model': 'XGBoost', 'test_size': 0.182979441380863, 'random_state': 15, 'xgb_n_estimators': 205, 'xgb_max_depth': 14, 'xgb_learning_rate': 0.11902574867710944, 'xgb_subsample': 0.7112073029497454, 'xgb_colsample_bytree': 0.9197911373017705}. Best is trial 25 with value: 0.8542093645634888.\n"
     ]
    },
    {
     "name": "stderr",
     "output_type": "stream",
     "text": [
      "Best trial: 25. Best value: 0.854209:  50%|█████     | 50/100 [01:09<01:07,  1.35s/it]"
     ]
    },
    {
     "name": "stdout",
     "output_type": "stream",
     "text": [
      "[I 2025-07-10 18:08:39,611] Trial 49 finished with value: 0.8147192310154794 and parameters: {'model': 'XGBoost', 'test_size': 0.1560678646650222, 'random_state': 39, 'xgb_n_estimators': 163, 'xgb_max_depth': 11, 'xgb_learning_rate': 0.14514696717356096, 'xgb_subsample': 0.7653371782540608, 'xgb_colsample_bytree': 0.6546183130722005}. Best is trial 25 with value: 0.8542093645634888.\n"
     ]
    },
    {
     "name": "stderr",
     "output_type": "stream",
     "text": [
      "Best trial: 25. Best value: 0.854209:  51%|█████     | 51/100 [01:10<01:04,  1.31s/it]"
     ]
    },
    {
     "name": "stdout",
     "output_type": "stream",
     "text": [
      "[I 2025-07-10 18:08:40,844] Trial 50 finished with value: 0.825272491467995 and parameters: {'model': 'XGBoost', 'test_size': 0.10042003410388808, 'random_state': 98, 'xgb_n_estimators': 242, 'xgb_max_depth': 13, 'xgb_learning_rate': 0.08770177266618591, 'xgb_subsample': 0.9949621640271378, 'xgb_colsample_bytree': 0.7621257787867817}. Best is trial 25 with value: 0.8542093645634888.\n"
     ]
    },
    {
     "name": "stderr",
     "output_type": "stream",
     "text": [
      "Best trial: 25. Best value: 0.854209:  52%|█████▏    | 52/100 [01:11<00:55,  1.16s/it]"
     ]
    },
    {
     "name": "stdout",
     "output_type": "stream",
     "text": [
      "[I 2025-07-10 18:08:41,648] Trial 51 finished with value: 0.8259025601967032 and parameters: {'model': 'XGBoost', 'test_size': 0.1232325551893874, 'random_state': 7, 'xgb_n_estimators': 318, 'xgb_max_depth': 10, 'xgb_learning_rate': 0.18201638982018495, 'xgb_subsample': 0.8435672198329041, 'xgb_colsample_bytree': 0.6993837994521296}. Best is trial 25 with value: 0.8542093645634888.\n"
     ]
    },
    {
     "name": "stderr",
     "output_type": "stream",
     "text": [
      "Best trial: 25. Best value: 0.854209:  53%|█████▎    | 53/100 [01:12<00:50,  1.08s/it]"
     ]
    },
    {
     "name": "stdout",
     "output_type": "stream",
     "text": [
      "[I 2025-07-10 18:08:42,531] Trial 52 finished with value: 0.8256185008603745 and parameters: {'model': 'XGBoost', 'test_size': 0.10846961078501202, 'random_state': 27, 'xgb_n_estimators': 335, 'xgb_max_depth': 10, 'xgb_learning_rate': 0.19123676838296466, 'xgb_subsample': 0.7548276852015855, 'xgb_colsample_bytree': 0.716506145338148}. Best is trial 25 with value: 0.8542093645634888.\n"
     ]
    },
    {
     "name": "stderr",
     "output_type": "stream",
     "text": [
      "Best trial: 25. Best value: 0.854209:  54%|█████▍    | 54/100 [01:14<01:02,  1.36s/it]"
     ]
    },
    {
     "name": "stdout",
     "output_type": "stream",
     "text": [
      "[I 2025-07-10 18:08:44,563] Trial 53 finished with value: 0.7837872845158977 and parameters: {'model': 'XGBoost', 'test_size': 0.1082443376369931, 'random_state': 50, 'xgb_n_estimators': 286, 'xgb_max_depth': 12, 'xgb_learning_rate': 0.013501499934754663, 'xgb_subsample': 0.6137965083441798, 'xgb_colsample_bytree': 0.694839448784518}. Best is trial 25 with value: 0.8542093645634888.\n"
     ]
    },
    {
     "name": "stderr",
     "output_type": "stream",
     "text": [
      "Best trial: 25. Best value: 0.854209:  55%|█████▌    | 55/100 [01:14<00:50,  1.13s/it]"
     ]
    },
    {
     "name": "stdout",
     "output_type": "stream",
     "text": [
      "[I 2025-07-10 18:08:45,159] Trial 54 finished with value: 0.8207472737015928 and parameters: {'model': 'XGBoost', 'test_size': 0.14415935181579762, 'random_state': 34, 'xgb_n_estimators': 279, 'xgb_max_depth': 8, 'xgb_learning_rate': 0.21869706413614098, 'xgb_subsample': 0.8095149318964513, 'xgb_colsample_bytree': 0.6315821238808627}. Best is trial 25 with value: 0.8542093645634888.\n"
     ]
    },
    {
     "name": "stderr",
     "output_type": "stream",
     "text": [
      "Best trial: 25. Best value: 0.854209:  56%|█████▌    | 56/100 [01:15<00:45,  1.03s/it]"
     ]
    },
    {
     "name": "stdout",
     "output_type": "stream",
     "text": [
      "[I 2025-07-10 18:08:45,957] Trial 55 finished with value: 0.8161465197210962 and parameters: {'model': 'XGBoost', 'test_size': 0.12501114030160285, 'random_state': 56, 'xgb_n_estimators': 257, 'xgb_max_depth': 9, 'xgb_learning_rate': 0.046946181195270595, 'xgb_subsample': 0.9556191795907818, 'xgb_colsample_bytree': 0.6747561758776414}. Best is trial 25 with value: 0.8542093645634888.\n"
     ]
    },
    {
     "name": "stderr",
     "output_type": "stream",
     "text": [
      "Best trial: 25. Best value: 0.854209:  57%|█████▋    | 57/100 [01:16<00:45,  1.07s/it]"
     ]
    },
    {
     "name": "stdout",
     "output_type": "stream",
     "text": [
      "[I 2025-07-10 18:08:47,110] Trial 56 finished with value: 0.8463577607845478 and parameters: {'model': 'XGBoost', 'test_size': 0.13115079829937892, 'random_state': 21, 'xgb_n_estimators': 318, 'xgb_max_depth': 14, 'xgb_learning_rate': 0.15952862973901005, 'xgb_subsample': 0.9030660139828093, 'xgb_colsample_bytree': 0.5828970683514713}. Best is trial 25 with value: 0.8542093645634888.\n"
     ]
    },
    {
     "name": "stderr",
     "output_type": "stream",
     "text": [
      "Best trial: 25. Best value: 0.854209:  58%|█████▊    | 58/100 [01:18<00:50,  1.21s/it]"
     ]
    },
    {
     "name": "stdout",
     "output_type": "stream",
     "text": [
      "[I 2025-07-10 18:08:48,631] Trial 57 finished with value: 0.8377668596412557 and parameters: {'model': 'XGBoost', 'test_size': 0.13380211840653786, 'random_state': 26, 'xgb_n_estimators': 440, 'xgb_max_depth': 15, 'xgb_learning_rate': 0.1540032050436272, 'xgb_subsample': 0.9098338497974807, 'xgb_colsample_bytree': 0.5096724098499377}. Best is trial 25 with value: 0.8542093645634888.\n"
     ]
    },
    {
     "name": "stderr",
     "output_type": "stream",
     "text": [
      "Best trial: 25. Best value: 0.854209:  59%|█████▉    | 59/100 [01:19<00:47,  1.16s/it]"
     ]
    },
    {
     "name": "stdout",
     "output_type": "stream",
     "text": [
      "[I 2025-07-10 18:08:49,700] Trial 58 finished with value: 0.8377617888394351 and parameters: {'model': 'XGBoost', 'test_size': 0.16464135924549392, 'random_state': 20, 'xgb_n_estimators': 298, 'xgb_max_depth': 14, 'xgb_learning_rate': 0.16069050714413405, 'xgb_subsample': 0.888129052509502, 'xgb_colsample_bytree': 0.573046526488567}. Best is trial 25 with value: 0.8542093645634888.\n"
     ]
    },
    {
     "name": "stderr",
     "output_type": "stream",
     "text": [
      "Best trial: 25. Best value: 0.854209:  60%|██████    | 60/100 [01:20<00:45,  1.14s/it]"
     ]
    },
    {
     "name": "stdout",
     "output_type": "stream",
     "text": [
      "[I 2025-07-10 18:08:50,788] Trial 59 finished with value: 0.8215314307823557 and parameters: {'model': 'XGBoost', 'test_size': 0.14879771842048933, 'random_state': 13, 'xgb_n_estimators': 224, 'xgb_max_depth': 15, 'xgb_learning_rate': 0.13347864708611606, 'xgb_subsample': 0.9497307822089148, 'xgb_colsample_bytree': 0.5913014817729983}. Best is trial 25 with value: 0.8542093645634888.\n"
     ]
    },
    {
     "name": "stderr",
     "output_type": "stream",
     "text": [
      "Best trial: 25. Best value: 0.854209:  61%|██████    | 61/100 [01:26<01:38,  2.53s/it]"
     ]
    },
    {
     "name": "stdout",
     "output_type": "stream",
     "text": [
      "[I 2025-07-10 18:08:56,561] Trial 60 finished with value: 0.7765257725082703 and parameters: {'model': 'RandomForest', 'test_size': 0.2841063465399474, 'random_state': 29, 'rf_n_estimators': 301, 'rf_max_depth': 20, 'rf_min_samples_split': 8, 'rf_min_samples_leaf': 2}. Best is trial 25 with value: 0.8542093645634888.\n"
     ]
    },
    {
     "name": "stderr",
     "output_type": "stream",
     "text": [
      "Best trial: 25. Best value: 0.854209:  62%|██████▏   | 62/100 [01:27<01:19,  2.10s/it]"
     ]
    },
    {
     "name": "stdout",
     "output_type": "stream",
     "text": [
      "[I 2025-07-10 18:08:57,641] Trial 61 finished with value: 0.8334260181568354 and parameters: {'model': 'XGBoost', 'test_size': 0.11852770106380014, 'random_state': 8, 'xgb_n_estimators': 308, 'xgb_max_depth': 14, 'xgb_learning_rate': 0.1955069923188394, 'xgb_subsample': 0.6803359036772865, 'xgb_colsample_bytree': 0.5421924009756229}. Best is trial 25 with value: 0.8542093645634888.\n"
     ]
    },
    {
     "name": "stderr",
     "output_type": "stream",
     "text": [
      "Best trial: 25. Best value: 0.854209:  63%|██████▎   | 63/100 [01:28<01:09,  1.88s/it]"
     ]
    },
    {
     "name": "stdout",
     "output_type": "stream",
     "text": [
      "[I 2025-07-10 18:08:59,002] Trial 62 finished with value: 0.8071665061652331 and parameters: {'model': 'XGBoost', 'test_size': 0.129002448214253, 'random_state': 36, 'xgb_n_estimators': 323, 'xgb_max_depth': 12, 'xgb_learning_rate': 0.11146383768678163, 'xgb_subsample': 0.823488981093291, 'xgb_colsample_bytree': 0.8002978597599463}. Best is trial 25 with value: 0.8542093645634888.\n"
     ]
    },
    {
     "name": "stderr",
     "output_type": "stream",
     "text": [
      "Best trial: 25. Best value: 0.854209:  64%|██████▍   | 64/100 [01:30<01:02,  1.72s/it]"
     ]
    },
    {
     "name": "stdout",
     "output_type": "stream",
     "text": [
      "[I 2025-07-10 18:09:00,374] Trial 63 finished with value: 0.8476462492991294 and parameters: {'model': 'XGBoost', 'test_size': 0.10748358352075793, 'random_state': 22, 'xgb_n_estimators': 360, 'xgb_max_depth': 13, 'xgb_learning_rate': 0.17108066800322042, 'xgb_subsample': 0.7163732755912472, 'xgb_colsample_bytree': 0.7192797684952074}. Best is trial 25 with value: 0.8542093645634888.\n"
     ]
    },
    {
     "name": "stderr",
     "output_type": "stream",
     "text": [
      "Best trial: 25. Best value: 0.854209:  65%|██████▌   | 65/100 [01:31<00:57,  1.63s/it]"
     ]
    },
    {
     "name": "stdout",
     "output_type": "stream",
     "text": [
      "[I 2025-07-10 18:09:01,797] Trial 64 finished with value: 0.8146494282923435 and parameters: {'model': 'XGBoost', 'test_size': 0.13715423654865555, 'random_state': 23, 'xgb_n_estimators': 388, 'xgb_max_depth': 13, 'xgb_learning_rate': 0.1652845383942647, 'xgb_subsample': 0.7139099447484623, 'xgb_colsample_bytree': 0.7276628758842966}. Best is trial 25 with value: 0.8542093645634888.\n"
     ]
    },
    {
     "name": "stderr",
     "output_type": "stream",
     "text": [
      "Best trial: 25. Best value: 0.854209:  67%|██████▋   | 67/100 [01:33<00:37,  1.14s/it]"
     ]
    },
    {
     "name": "stdout",
     "output_type": "stream",
     "text": [
      "[I 2025-07-10 18:09:03,175] Trial 65 finished with value: 0.8504976971996799 and parameters: {'model': 'XGBoost', 'test_size': 0.1124007634175267, 'random_state': 31, 'xgb_n_estimators': 370, 'xgb_max_depth': 11, 'xgb_learning_rate': 0.09568142806808713, 'xgb_subsample': 0.7866425921803493, 'xgb_colsample_bytree': 0.846117878770061}. Best is trial 25 with value: 0.8542093645634888.\n",
      "[I 2025-07-10 18:09:03,346] Trial 66 finished with value: 0.7492447807647982 and parameters: {'model': 'LinearRegression', 'test_size': 0.11042832995206313, 'random_state': 40}. Best is trial 25 with value: 0.8542093645634888.\n"
     ]
    },
    {
     "name": "stderr",
     "output_type": "stream",
     "text": [
      "Best trial: 25. Best value: 0.854209:  68%|██████▊   | 68/100 [01:34<00:38,  1.21s/it]"
     ]
    },
    {
     "name": "stdout",
     "output_type": "stream",
     "text": [
      "[I 2025-07-10 18:09:04,705] Trial 67 finished with value: 0.8151008578183547 and parameters: {'model': 'XGBoost', 'test_size': 0.12181687730435953, 'random_state': 45, 'xgb_n_estimators': 371, 'xgb_max_depth': 11, 'xgb_learning_rate': 0.0847157657589816, 'xgb_subsample': 0.7776470241527133, 'xgb_colsample_bytree': 0.8303193421036763}. Best is trial 25 with value: 0.8542093645634888.\n"
     ]
    },
    {
     "name": "stderr",
     "output_type": "stream",
     "text": [
      "Best trial: 25. Best value: 0.854209:  69%|██████▉   | 69/100 [01:35<00:38,  1.23s/it]"
     ]
    },
    {
     "name": "stdout",
     "output_type": "stream",
     "text": [
      "[I 2025-07-10 18:09:05,983] Trial 68 finished with value: 0.8462699780452685 and parameters: {'model': 'XGBoost', 'test_size': 0.100685452752814, 'random_state': 22, 'xgb_n_estimators': 416, 'xgb_max_depth': 11, 'xgb_learning_rate': 0.06199773132129012, 'xgb_subsample': 0.6454185829077319, 'xgb_colsample_bytree': 0.6367360881047961}. Best is trial 25 with value: 0.8542093645634888.\n"
     ]
    },
    {
     "name": "stderr",
     "output_type": "stream",
     "text": [
      "Best trial: 25. Best value: 0.854209:  70%|███████   | 70/100 [01:37<00:41,  1.38s/it]"
     ]
    },
    {
     "name": "stdout",
     "output_type": "stream",
     "text": [
      "[I 2025-07-10 18:09:07,727] Trial 69 finished with value: 0.8216355315724302 and parameters: {'model': 'XGBoost', 'test_size': 0.10139156870867501, 'random_state': 19, 'xgb_n_estimators': 448, 'xgb_max_depth': 11, 'xgb_learning_rate': 0.060697895048752774, 'xgb_subsample': 0.6429412082645886, 'xgb_colsample_bytree': 0.8445302733774603}. Best is trial 25 with value: 0.8542093645634888.\n"
     ]
    },
    {
     "name": "stderr",
     "output_type": "stream",
     "text": [
      "Best trial: 25. Best value: 0.854209:  71%|███████   | 71/100 [01:38<00:38,  1.31s/it]"
     ]
    },
    {
     "name": "stdout",
     "output_type": "stream",
     "text": [
      "[I 2025-07-10 18:09:08,876] Trial 70 finished with value: 0.8228282497356352 and parameters: {'model': 'XGBoost', 'test_size': 0.11454002058318125, 'random_state': 15, 'xgb_n_estimators': 355, 'xgb_max_depth': 9, 'xgb_learning_rate': 0.034251544775372886, 'xgb_subsample': 0.5751273511524525, 'xgb_colsample_bytree': 0.869824783973447}. Best is trial 25 with value: 0.8542093645634888.\n"
     ]
    },
    {
     "name": "stderr",
     "output_type": "stream",
     "text": [
      "Best trial: 25. Best value: 0.854209:  72%|███████▏  | 72/100 [01:39<00:35,  1.27s/it]"
     ]
    },
    {
     "name": "stdout",
     "output_type": "stream",
     "text": [
      "[I 2025-07-10 18:09:10,058] Trial 71 finished with value: 0.8318339671037343 and parameters: {'model': 'XGBoost', 'test_size': 0.10542940528689636, 'random_state': 25, 'xgb_n_estimators': 413, 'xgb_max_depth': 12, 'xgb_learning_rate': 0.17799177871221405, 'xgb_subsample': 0.6492329254553438, 'xgb_colsample_bytree': 0.6295748075502906}. Best is trial 25 with value: 0.8542093645634888.\n"
     ]
    },
    {
     "name": "stderr",
     "output_type": "stream",
     "text": [
      "Best trial: 25. Best value: 0.854209:  73%|███████▎  | 73/100 [01:40<00:32,  1.21s/it]"
     ]
    },
    {
     "name": "stdout",
     "output_type": "stream",
     "text": [
      "[I 2025-07-10 18:09:11,107] Trial 72 finished with value: 0.8367157238678886 and parameters: {'model': 'XGBoost', 'test_size': 0.11889082795591131, 'random_state': 21, 'xgb_n_estimators': 374, 'xgb_max_depth': 11, 'xgb_learning_rate': 0.07798872022321249, 'xgb_subsample': 0.6891046767853289, 'xgb_colsample_bytree': 0.6129596122150958}. Best is trial 25 with value: 0.8542093645634888.\n"
     ]
    },
    {
     "name": "stderr",
     "output_type": "stream",
     "text": [
      "Best trial: 25. Best value: 0.854209:  74%|███████▍  | 74/100 [01:41<00:31,  1.20s/it]"
     ]
    },
    {
     "name": "stdout",
     "output_type": "stream",
     "text": [
      "[I 2025-07-10 18:09:12,306] Trial 73 finished with value: 0.8459751068746981 and parameters: {'model': 'XGBoost', 'test_size': 0.12768370233092266, 'random_state': 31, 'xgb_n_estimators': 338, 'xgb_max_depth': 12, 'xgb_learning_rate': 0.09620506257664188, 'xgb_subsample': 0.7320894915184192, 'xgb_colsample_bytree': 0.6759976142012307}. Best is trial 25 with value: 0.8542093645634888.\n"
     ]
    },
    {
     "name": "stderr",
     "output_type": "stream",
     "text": [
      "Best trial: 25. Best value: 0.854209:  75%|███████▌  | 75/100 [01:43<00:33,  1.35s/it]"
     ]
    },
    {
     "name": "stdout",
     "output_type": "stream",
     "text": [
      "[I 2025-07-10 18:09:13,981] Trial 74 finished with value: 0.8525350513026142 and parameters: {'model': 'XGBoost', 'test_size': 0.11137762075916456, 'random_state': 30, 'xgb_n_estimators': 410, 'xgb_max_depth': 14, 'xgb_learning_rate': 0.06098814858938168, 'xgb_subsample': 0.6136739448852868, 'xgb_colsample_bytree': 0.6815985662107107}. Best is trial 25 with value: 0.8542093645634888.\n"
     ]
    },
    {
     "name": "stderr",
     "output_type": "stream",
     "text": [
      "Best trial: 25. Best value: 0.854209:  76%|███████▌  | 76/100 [01:45<00:37,  1.57s/it]"
     ]
    },
    {
     "name": "stdout",
     "output_type": "stream",
     "text": [
      "[I 2025-07-10 18:09:16,071] Trial 75 finished with value: 0.8349864324509485 and parameters: {'model': 'XGBoost', 'test_size': 0.11224981185562569, 'random_state': 33, 'xgb_n_estimators': 403, 'xgb_max_depth': 14, 'xgb_learning_rate': 0.03288213720569241, 'xgb_subsample': 0.6185014745518569, 'xgb_colsample_bytree': 0.682595110107413}. Best is trial 25 with value: 0.8542093645634888.\n"
     ]
    },
    {
     "name": "stderr",
     "output_type": "stream",
     "text": [
      "Best trial: 25. Best value: 0.854209:  77%|███████▋  | 77/100 [01:46<00:32,  1.41s/it]"
     ]
    },
    {
     "name": "stdout",
     "output_type": "stream",
     "text": [
      "[I 2025-07-10 18:09:17,106] Trial 76 finished with value: 0.8203092209649175 and parameters: {'model': 'XGBoost', 'test_size': 0.10599933318244596, 'random_state': 16, 'xgb_n_estimators': 421, 'xgb_max_depth': 10, 'xgb_learning_rate': 0.2890814254769814, 'xgb_subsample': 0.7341394963567748, 'xgb_colsample_bytree': 0.7069745963882708}. Best is trial 25 with value: 0.8542093645634888.\n"
     ]
    },
    {
     "name": "stderr",
     "output_type": "stream",
     "text": [
      "Best trial: 25. Best value: 0.854209:  78%|███████▊  | 78/100 [01:47<00:28,  1.29s/it]"
     ]
    },
    {
     "name": "stdout",
     "output_type": "stream",
     "text": [
      "[I 2025-07-10 18:09:18,123] Trial 77 finished with value: 0.8315139958775554 and parameters: {'model': 'XGBoost', 'test_size': 0.12835234835676612, 'random_state': 25, 'xgb_n_estimators': 348, 'xgb_max_depth': 12, 'xgb_learning_rate': 0.21244008750493892, 'xgb_subsample': 0.6635135237740794, 'xgb_colsample_bytree': 0.6503366835361661}. Best is trial 25 with value: 0.8542093645634888.\n"
     ]
    },
    {
     "name": "stderr",
     "output_type": "stream",
     "text": [
      "Best trial: 25. Best value: 0.854209:  79%|███████▉  | 79/100 [01:49<00:30,  1.45s/it]"
     ]
    },
    {
     "name": "stdout",
     "output_type": "stream",
     "text": [
      "[I 2025-07-10 18:09:19,936] Trial 78 finished with value: 0.7783278106142123 and parameters: {'model': 'RandomForest', 'test_size': 0.10073469526193193, 'random_state': 78, 'rf_n_estimators': 217, 'rf_max_depth': 8, 'rf_min_samples_split': 10, 'rf_min_samples_leaf': 4}. Best is trial 25 with value: 0.8542093645634888.\n"
     ]
    },
    {
     "name": "stderr",
     "output_type": "stream",
     "text": [
      "Best trial: 25. Best value: 0.854209:  81%|████████  | 81/100 [01:51<00:21,  1.13s/it]"
     ]
    },
    {
     "name": "stdout",
     "output_type": "stream",
     "text": [
      "[I 2025-07-10 18:09:21,788] Trial 79 finished with value: 0.8182417723438042 and parameters: {'model': 'XGBoost', 'test_size': 0.12204790187115502, 'random_state': 36, 'xgb_n_estimators': 473, 'xgb_max_depth': 14, 'xgb_learning_rate': 0.06333564349204082, 'xgb_subsample': 0.6225319511521933, 'xgb_colsample_bytree': 0.6733355558041144}. Best is trial 25 with value: 0.8542093645634888.\n",
      "[I 2025-07-10 18:09:21,903] Trial 80 finished with value: 0.6950992332015746 and parameters: {'model': 'LinearRegression', 'test_size': 0.24796599685414616, 'random_state': 29}. Best is trial 25 with value: 0.8542093645634888.\n"
     ]
    },
    {
     "name": "stderr",
     "output_type": "stream",
     "text": [
      "Best trial: 81. Best value: 0.857045:  82%|████████▏ | 82/100 [01:53<00:22,  1.25s/it]"
     ]
    },
    {
     "name": "stdout",
     "output_type": "stream",
     "text": [
      "[I 2025-07-10 18:09:23,429] Trial 81 finished with value: 0.8570447971967452 and parameters: {'model': 'XGBoost', 'test_size': 0.11295952066486527, 'random_state': 31, 'xgb_n_estimators': 432, 'xgb_max_depth': 13, 'xgb_learning_rate': 0.09481139283396632, 'xgb_subsample': 0.5543474912122496, 'xgb_colsample_bytree': 0.8026017979368394}. Best is trial 81 with value: 0.8570447971967452.\n"
     ]
    },
    {
     "name": "stderr",
     "output_type": "stream",
     "text": [
      "Best trial: 81. Best value: 0.857045:  83%|████████▎ | 83/100 [01:54<00:22,  1.35s/it]"
     ]
    },
    {
     "name": "stdout",
     "output_type": "stream",
     "text": [
      "[I 2025-07-10 18:09:25,001] Trial 82 finished with value: 0.8476214634955936 and parameters: {'model': 'XGBoost', 'test_size': 0.11465970188625903, 'random_state': 32, 'xgb_n_estimators': 435, 'xgb_max_depth': 13, 'xgb_learning_rate': 0.05605224810046925, 'xgb_subsample': 0.5551697668577857, 'xgb_colsample_bytree': 0.6908063148279385}. Best is trial 81 with value: 0.8570447971967452.\n"
     ]
    },
    {
     "name": "stderr",
     "output_type": "stream",
     "text": [
      "Best trial: 81. Best value: 0.857045:  84%|████████▍ | 84/100 [01:56<00:23,  1.44s/it]"
     ]
    },
    {
     "name": "stdout",
     "output_type": "stream",
     "text": [
      "[I 2025-07-10 18:09:26,671] Trial 83 finished with value: 0.8391751620238166 and parameters: {'model': 'XGBoost', 'test_size': 0.11039101974092368, 'random_state': 22, 'xgb_n_estimators': 437, 'xgb_max_depth': 13, 'xgb_learning_rate': 0.054425913628088546, 'xgb_subsample': 0.5584499305849899, 'xgb_colsample_bytree': 0.7255471451269883}. Best is trial 81 with value: 0.8570447971967452.\n"
     ]
    },
    {
     "name": "stderr",
     "output_type": "stream",
     "text": [
      "Best trial: 81. Best value: 0.857045:  85%|████████▌ | 85/100 [01:58<00:26,  1.76s/it]"
     ]
    },
    {
     "name": "stdout",
     "output_type": "stream",
     "text": [
      "[I 2025-07-10 18:09:29,152] Trial 84 finished with value: 0.8187830576860731 and parameters: {'model': 'XGBoost', 'test_size': 0.11539717840165696, 'random_state': 27, 'xgb_n_estimators': 461, 'xgb_max_depth': 15, 'xgb_learning_rate': 0.041114037364282194, 'xgb_subsample': 0.5157554602010179, 'xgb_colsample_bytree': 0.765191396279533}. Best is trial 81 with value: 0.8570447971967452.\n"
     ]
    },
    {
     "name": "stderr",
     "output_type": "stream",
     "text": [
      "Best trial: 81. Best value: 0.857045:  86%|████████▌ | 86/100 [02:00<00:22,  1.61s/it]"
     ]
    },
    {
     "name": "stdout",
     "output_type": "stream",
     "text": [
      "[I 2025-07-10 18:09:30,439] Trial 85 finished with value: 0.8503369616645609 and parameters: {'model': 'XGBoost', 'test_size': 0.10656001777005832, 'random_state': 33, 'xgb_n_estimators': 401, 'xgb_max_depth': 13, 'xgb_learning_rate': 0.1693011602627436, 'xgb_subsample': 0.5704057387627277, 'xgb_colsample_bytree': 0.6931045315030144}. Best is trial 81 with value: 0.8570447971967452.\n"
     ]
    },
    {
     "name": "stderr",
     "output_type": "stream",
     "text": [
      "Best trial: 81. Best value: 0.857045:  87%|████████▋ | 87/100 [02:01<00:21,  1.62s/it]"
     ]
    },
    {
     "name": "stdout",
     "output_type": "stream",
     "text": [
      "[I 2025-07-10 18:09:32,062] Trial 86 finished with value: 0.838337878242016 and parameters: {'model': 'XGBoost', 'test_size': 0.1178943397531386, 'random_state': 40, 'xgb_n_estimators': 428, 'xgb_max_depth': 14, 'xgb_learning_rate': 0.20147932987938078, 'xgb_subsample': 0.5575196544536677, 'xgb_colsample_bytree': 0.7374112696966595}. Best is trial 81 with value: 0.8570447971967452.\n"
     ]
    },
    {
     "name": "stderr",
     "output_type": "stream",
     "text": [
      "Best trial: 81. Best value: 0.857045:  88%|████████▊ | 88/100 [02:03<00:19,  1.60s/it]"
     ]
    },
    {
     "name": "stdout",
     "output_type": "stream",
     "text": [
      "[I 2025-07-10 18:09:33,608] Trial 87 finished with value: 0.845700364452602 and parameters: {'model': 'XGBoost', 'test_size': 0.10668478505116478, 'random_state': 33, 'xgb_n_estimators': 489, 'xgb_max_depth': 13, 'xgb_learning_rate': 0.16612746638922243, 'xgb_subsample': 0.5369448953424572, 'xgb_colsample_bytree': 0.695091573179721}. Best is trial 81 with value: 0.8570447971967452.\n"
     ]
    },
    {
     "name": "stderr",
     "output_type": "stream",
     "text": [
      "Best trial: 81. Best value: 0.857045:  89%|████████▉ | 89/100 [02:04<00:17,  1.60s/it]"
     ]
    },
    {
     "name": "stdout",
     "output_type": "stream",
     "text": [
      "[I 2025-07-10 18:09:35,210] Trial 88 finished with value: 0.8091887664514392 and parameters: {'model': 'XGBoost', 'test_size': 0.11247756374726203, 'random_state': 37, 'xgb_n_estimators': 399, 'xgb_max_depth': 13, 'xgb_learning_rate': 0.11681427638229591, 'xgb_subsample': 0.5852304726129928, 'xgb_colsample_bytree': 0.8948250905417563}. Best is trial 81 with value: 0.8570447971967452.\n"
     ]
    },
    {
     "name": "stderr",
     "output_type": "stream",
     "text": [
      "Best trial: 81. Best value: 0.857045:  90%|█████████ | 90/100 [02:06<00:15,  1.60s/it]"
     ]
    },
    {
     "name": "stdout",
     "output_type": "stream",
     "text": [
      "[I 2025-07-10 18:09:36,807] Trial 89 finished with value: 0.824246741623394 and parameters: {'model': 'XGBoost', 'test_size': 0.12207479579177584, 'random_state': 43, 'xgb_n_estimators': 374, 'xgb_max_depth': 14, 'xgb_learning_rate': 0.1708918996561143, 'xgb_subsample': 0.5981865365831452, 'xgb_colsample_bytree': 0.8595281739600227}. Best is trial 81 with value: 0.8570447971967452.\n"
     ]
    },
    {
     "name": "stderr",
     "output_type": "stream",
     "text": [
      "Best trial: 81. Best value: 0.857045:  91%|█████████ | 91/100 [02:07<00:13,  1.54s/it]"
     ]
    },
    {
     "name": "stdout",
     "output_type": "stream",
     "text": [
      "[I 2025-07-10 18:09:38,203] Trial 90 finished with value: 0.8121609838657314 and parameters: {'model': 'XGBoost', 'test_size': 0.24049334283173654, 'random_state': 35, 'xgb_n_estimators': 397, 'xgb_max_depth': 13, 'xgb_learning_rate': 0.1364941219271078, 'xgb_subsample': 0.5334189983153766, 'xgb_colsample_bytree': 0.817320335182347}. Best is trial 81 with value: 0.8570447971967452.\n"
     ]
    },
    {
     "name": "stderr",
     "output_type": "stream",
     "text": [
      "Best trial: 81. Best value: 0.857045:  92%|█████████▏| 92/100 [02:08<00:10,  1.32s/it]"
     ]
    },
    {
     "name": "stdout",
     "output_type": "stream",
     "text": [
      "[I 2025-07-10 18:09:39,003] Trial 91 finished with value: 0.8166806059312374 and parameters: {'model': 'XGBoost', 'test_size': 0.10356408700502186, 'random_state': 24, 'xgb_n_estimators': 418, 'xgb_max_depth': 8, 'xgb_learning_rate': 0.07972985552137565, 'xgb_subsample': 0.5654972907086261, 'xgb_colsample_bytree': 0.6436482588987305}. Best is trial 81 with value: 0.8570447971967452.\n"
     ]
    },
    {
     "name": "stderr",
     "output_type": "stream",
     "text": [
      "Best trial: 92. Best value: 0.857394:  93%|█████████▎| 93/100 [02:10<00:09,  1.37s/it]"
     ]
    },
    {
     "name": "stdout",
     "output_type": "stream",
     "text": [
      "[I 2025-07-10 18:09:40,493] Trial 92 finished with value: 0.8573939494214106 and parameters: {'model': 'XGBoost', 'test_size': 0.11490513199515942, 'random_state': 30, 'xgb_n_estimators': 409, 'xgb_max_depth': 14, 'xgb_learning_rate': 0.1850285117856906, 'xgb_subsample': 0.6047183579319938, 'xgb_colsample_bytree': 0.6867081248247048}. Best is trial 92 with value: 0.8573939494214106.\n"
     ]
    },
    {
     "name": "stderr",
     "output_type": "stream",
     "text": [
      "Best trial: 93. Best value: 0.861382:  94%|█████████▍| 94/100 [02:11<00:08,  1.43s/it]"
     ]
    },
    {
     "name": "stdout",
     "output_type": "stream",
     "text": [
      "[I 2025-07-10 18:09:42,054] Trial 93 finished with value: 0.8613817402823094 and parameters: {'model': 'XGBoost', 'test_size': 0.1347662709076835, 'random_state': 30, 'xgb_n_estimators': 455, 'xgb_max_depth': 14, 'xgb_learning_rate': 0.18579052942455954, 'xgb_subsample': 0.5467891860641703, 'xgb_colsample_bytree': 0.7159168039483006}. Best is trial 93 with value: 0.8613817402823094.\n"
     ]
    },
    {
     "name": "stderr",
     "output_type": "stream",
     "text": [
      "Best trial: 93. Best value: 0.861382:  95%|█████████▌| 95/100 [02:13<00:07,  1.56s/it]"
     ]
    },
    {
     "name": "stdout",
     "output_type": "stream",
     "text": [
      "[I 2025-07-10 18:09:43,913] Trial 94 finished with value: 0.8592775488563121 and parameters: {'model': 'XGBoost', 'test_size': 0.1149244524057341, 'random_state': 31, 'xgb_n_estimators': 465, 'xgb_max_depth': 15, 'xgb_learning_rate': 0.18795553846820076, 'xgb_subsample': 0.5965499228004891, 'xgb_colsample_bytree': 0.6887317401678943}. Best is trial 93 with value: 0.8613817402823094.\n"
     ]
    },
    {
     "name": "stderr",
     "output_type": "stream",
     "text": [
      "Best trial: 93. Best value: 0.861382:  96%|█████████▌| 96/100 [02:15<00:06,  1.65s/it]"
     ]
    },
    {
     "name": "stdout",
     "output_type": "stream",
     "text": [
      "[I 2025-07-10 18:09:45,770] Trial 95 finished with value: 0.8463208940474303 and parameters: {'model': 'XGBoost', 'test_size': 0.13620730430938138, 'random_state': 28, 'xgb_n_estimators': 457, 'xgb_max_depth': 15, 'xgb_learning_rate': 0.18532069187193867, 'xgb_subsample': 0.6044994638068256, 'xgb_colsample_bytree': 0.7166837691061817}. Best is trial 93 with value: 0.8613817402823094.\n"
     ]
    },
    {
     "name": "stderr",
     "output_type": "stream",
     "text": [
      "Best trial: 93. Best value: 0.861382:  97%|█████████▋| 97/100 [02:24<00:11,  3.88s/it]"
     ]
    },
    {
     "name": "stdout",
     "output_type": "stream",
     "text": [
      "[I 2025-07-10 18:09:54,846] Trial 96 finished with value: 0.7988984761440631 and parameters: {'model': 'RandomForest', 'test_size': 0.12526865813707894, 'random_state': 30, 'rf_n_estimators': 422, 'rf_max_depth': 17, 'rf_min_samples_split': 2, 'rf_min_samples_leaf': 2}. Best is trial 93 with value: 0.8613817402823094.\n"
     ]
    },
    {
     "name": "stderr",
     "output_type": "stream",
     "text": [
      "Best trial: 93. Best value: 0.861382:  99%|█████████▉| 99/100 [02:26<00:02,  2.32s/it]"
     ]
    },
    {
     "name": "stdout",
     "output_type": "stream",
     "text": [
      "[I 2025-07-10 18:09:56,657] Trial 97 finished with value: 0.84443747509957 and parameters: {'model': 'XGBoost', 'test_size': 0.10893125769194115, 'random_state': 26, 'xgb_n_estimators': 473, 'xgb_max_depth': 15, 'xgb_learning_rate': 0.24283547933802024, 'xgb_subsample': 0.5756776231807568, 'xgb_colsample_bytree': 0.6637110643261503}. Best is trial 93 with value: 0.8613817402823094.\n",
      "[I 2025-07-10 18:09:56,797] Trial 98 finished with value: 0.7473626922222221 and parameters: {'model': 'LinearRegression', 'test_size': 0.11859924861774454, 'random_state': 35}. Best is trial 93 with value: 0.8613817402823094.\n"
     ]
    },
    {
     "name": "stderr",
     "output_type": "stream",
     "text": [
      "Best trial: 93. Best value: 0.861382: 100%|██████████| 100/100 [02:28<00:00,  1.49s/it]"
     ]
    },
    {
     "name": "stdout",
     "output_type": "stream",
     "text": [
      "[I 2025-07-10 18:09:58,973] Trial 99 finished with value: 0.8198371854197608 and parameters: {'model': 'XGBoost', 'test_size': 0.13202470157109253, 'random_state': 39, 'xgb_n_estimators': 495, 'xgb_max_depth': 15, 'xgb_learning_rate': 0.19936666316322083, 'xgb_subsample': 0.6308693362517743, 'xgb_colsample_bytree': 0.7104328322922785}. Best is trial 93 with value: 0.8613817402823094.\n"
     ]
    },
    {
     "name": "stderr",
     "output_type": "stream",
     "text": [
      "\n"
     ]
    }
   ],
   "source": [
    "study = optuna.create_study(direction='maximize')\n",
    "study.optimize(objective, n_trials=100,show_progress_bar=True)"
   ]
  },
  {
   "cell_type": "code",
   "execution_count": 51,
   "id": "e540b996",
   "metadata": {},
   "outputs": [
    {
     "name": "stdout",
     "output_type": "stream",
     "text": [
      "Best Hyperparameters:\n",
      "{'model': 'XGBoost', 'test_size': 0.1347662709076835, 'random_state': 30, 'xgb_n_estimators': 455, 'xgb_max_depth': 14, 'xgb_learning_rate': 0.18579052942455954, 'xgb_subsample': 0.5467891860641703, 'xgb_colsample_bytree': 0.7159168039483006}\n",
      "Best R² Score: 0.8614\n"
     ]
    }
   ],
   "source": [
    "best_params = study.best_trial.params\n",
    "print(\"Best Hyperparameters:\")\n",
    "print(best_params)\n",
    "print(f\"Best R² Score: {study.best_value:.4f}\")"
   ]
  },
  {
   "cell_type": "markdown",
   "id": "ae169e73",
   "metadata": {},
   "source": [
    "## Store the Model\n"
   ]
  },
  {
   "cell_type": "code",
   "execution_count": 57,
   "id": "ff7b600a",
   "metadata": {},
   "outputs": [],
   "source": [
    "import pickle"
   ]
  },
  {
   "cell_type": "code",
   "execution_count": 52,
   "id": "207bb9c6",
   "metadata": {},
   "outputs": [
    {
     "data": {
      "text/html": [
       "<style>#sk-container-id-1 {\n",
       "  /* Definition of color scheme common for light and dark mode */\n",
       "  --sklearn-color-text: #000;\n",
       "  --sklearn-color-text-muted: #666;\n",
       "  --sklearn-color-line: gray;\n",
       "  /* Definition of color scheme for unfitted estimators */\n",
       "  --sklearn-color-unfitted-level-0: #fff5e6;\n",
       "  --sklearn-color-unfitted-level-1: #f6e4d2;\n",
       "  --sklearn-color-unfitted-level-2: #ffe0b3;\n",
       "  --sklearn-color-unfitted-level-3: chocolate;\n",
       "  /* Definition of color scheme for fitted estimators */\n",
       "  --sklearn-color-fitted-level-0: #f0f8ff;\n",
       "  --sklearn-color-fitted-level-1: #d4ebff;\n",
       "  --sklearn-color-fitted-level-2: #b3dbfd;\n",
       "  --sklearn-color-fitted-level-3: cornflowerblue;\n",
       "\n",
       "  /* Specific color for light theme */\n",
       "  --sklearn-color-text-on-default-background: var(--sg-text-color, var(--theme-code-foreground, var(--jp-content-font-color1, black)));\n",
       "  --sklearn-color-background: var(--sg-background-color, var(--theme-background, var(--jp-layout-color0, white)));\n",
       "  --sklearn-color-border-box: var(--sg-text-color, var(--theme-code-foreground, var(--jp-content-font-color1, black)));\n",
       "  --sklearn-color-icon: #696969;\n",
       "\n",
       "  @media (prefers-color-scheme: dark) {\n",
       "    /* Redefinition of color scheme for dark theme */\n",
       "    --sklearn-color-text-on-default-background: var(--sg-text-color, var(--theme-code-foreground, var(--jp-content-font-color1, white)));\n",
       "    --sklearn-color-background: var(--sg-background-color, var(--theme-background, var(--jp-layout-color0, #111)));\n",
       "    --sklearn-color-border-box: var(--sg-text-color, var(--theme-code-foreground, var(--jp-content-font-color1, white)));\n",
       "    --sklearn-color-icon: #878787;\n",
       "  }\n",
       "}\n",
       "\n",
       "#sk-container-id-1 {\n",
       "  color: var(--sklearn-color-text);\n",
       "}\n",
       "\n",
       "#sk-container-id-1 pre {\n",
       "  padding: 0;\n",
       "}\n",
       "\n",
       "#sk-container-id-1 input.sk-hidden--visually {\n",
       "  border: 0;\n",
       "  clip: rect(1px 1px 1px 1px);\n",
       "  clip: rect(1px, 1px, 1px, 1px);\n",
       "  height: 1px;\n",
       "  margin: -1px;\n",
       "  overflow: hidden;\n",
       "  padding: 0;\n",
       "  position: absolute;\n",
       "  width: 1px;\n",
       "}\n",
       "\n",
       "#sk-container-id-1 div.sk-dashed-wrapped {\n",
       "  border: 1px dashed var(--sklearn-color-line);\n",
       "  margin: 0 0.4em 0.5em 0.4em;\n",
       "  box-sizing: border-box;\n",
       "  padding-bottom: 0.4em;\n",
       "  background-color: var(--sklearn-color-background);\n",
       "}\n",
       "\n",
       "#sk-container-id-1 div.sk-container {\n",
       "  /* jupyter's `normalize.less` sets `[hidden] { display: none; }`\n",
       "     but bootstrap.min.css set `[hidden] { display: none !important; }`\n",
       "     so we also need the `!important` here to be able to override the\n",
       "     default hidden behavior on the sphinx rendered scikit-learn.org.\n",
       "     See: https://github.com/scikit-learn/scikit-learn/issues/21755 */\n",
       "  display: inline-block !important;\n",
       "  position: relative;\n",
       "}\n",
       "\n",
       "#sk-container-id-1 div.sk-text-repr-fallback {\n",
       "  display: none;\n",
       "}\n",
       "\n",
       "div.sk-parallel-item,\n",
       "div.sk-serial,\n",
       "div.sk-item {\n",
       "  /* draw centered vertical line to link estimators */\n",
       "  background-image: linear-gradient(var(--sklearn-color-text-on-default-background), var(--sklearn-color-text-on-default-background));\n",
       "  background-size: 2px 100%;\n",
       "  background-repeat: no-repeat;\n",
       "  background-position: center center;\n",
       "}\n",
       "\n",
       "/* Parallel-specific style estimator block */\n",
       "\n",
       "#sk-container-id-1 div.sk-parallel-item::after {\n",
       "  content: \"\";\n",
       "  width: 100%;\n",
       "  border-bottom: 2px solid var(--sklearn-color-text-on-default-background);\n",
       "  flex-grow: 1;\n",
       "}\n",
       "\n",
       "#sk-container-id-1 div.sk-parallel {\n",
       "  display: flex;\n",
       "  align-items: stretch;\n",
       "  justify-content: center;\n",
       "  background-color: var(--sklearn-color-background);\n",
       "  position: relative;\n",
       "}\n",
       "\n",
       "#sk-container-id-1 div.sk-parallel-item {\n",
       "  display: flex;\n",
       "  flex-direction: column;\n",
       "}\n",
       "\n",
       "#sk-container-id-1 div.sk-parallel-item:first-child::after {\n",
       "  align-self: flex-end;\n",
       "  width: 50%;\n",
       "}\n",
       "\n",
       "#sk-container-id-1 div.sk-parallel-item:last-child::after {\n",
       "  align-self: flex-start;\n",
       "  width: 50%;\n",
       "}\n",
       "\n",
       "#sk-container-id-1 div.sk-parallel-item:only-child::after {\n",
       "  width: 0;\n",
       "}\n",
       "\n",
       "/* Serial-specific style estimator block */\n",
       "\n",
       "#sk-container-id-1 div.sk-serial {\n",
       "  display: flex;\n",
       "  flex-direction: column;\n",
       "  align-items: center;\n",
       "  background-color: var(--sklearn-color-background);\n",
       "  padding-right: 1em;\n",
       "  padding-left: 1em;\n",
       "}\n",
       "\n",
       "\n",
       "/* Toggleable style: style used for estimator/Pipeline/ColumnTransformer box that is\n",
       "clickable and can be expanded/collapsed.\n",
       "- Pipeline and ColumnTransformer use this feature and define the default style\n",
       "- Estimators will overwrite some part of the style using the `sk-estimator` class\n",
       "*/\n",
       "\n",
       "/* Pipeline and ColumnTransformer style (default) */\n",
       "\n",
       "#sk-container-id-1 div.sk-toggleable {\n",
       "  /* Default theme specific background. It is overwritten whether we have a\n",
       "  specific estimator or a Pipeline/ColumnTransformer */\n",
       "  background-color: var(--sklearn-color-background);\n",
       "}\n",
       "\n",
       "/* Toggleable label */\n",
       "#sk-container-id-1 label.sk-toggleable__label {\n",
       "  cursor: pointer;\n",
       "  display: flex;\n",
       "  width: 100%;\n",
       "  margin-bottom: 0;\n",
       "  padding: 0.5em;\n",
       "  box-sizing: border-box;\n",
       "  text-align: center;\n",
       "  align-items: start;\n",
       "  justify-content: space-between;\n",
       "  gap: 0.5em;\n",
       "}\n",
       "\n",
       "#sk-container-id-1 label.sk-toggleable__label .caption {\n",
       "  font-size: 0.6rem;\n",
       "  font-weight: lighter;\n",
       "  color: var(--sklearn-color-text-muted);\n",
       "}\n",
       "\n",
       "#sk-container-id-1 label.sk-toggleable__label-arrow:before {\n",
       "  /* Arrow on the left of the label */\n",
       "  content: \"▸\";\n",
       "  float: left;\n",
       "  margin-right: 0.25em;\n",
       "  color: var(--sklearn-color-icon);\n",
       "}\n",
       "\n",
       "#sk-container-id-1 label.sk-toggleable__label-arrow:hover:before {\n",
       "  color: var(--sklearn-color-text);\n",
       "}\n",
       "\n",
       "/* Toggleable content - dropdown */\n",
       "\n",
       "#sk-container-id-1 div.sk-toggleable__content {\n",
       "  display: none;\n",
       "  text-align: left;\n",
       "  /* unfitted */\n",
       "  background-color: var(--sklearn-color-unfitted-level-0);\n",
       "}\n",
       "\n",
       "#sk-container-id-1 div.sk-toggleable__content.fitted {\n",
       "  /* fitted */\n",
       "  background-color: var(--sklearn-color-fitted-level-0);\n",
       "}\n",
       "\n",
       "#sk-container-id-1 div.sk-toggleable__content pre {\n",
       "  margin: 0.2em;\n",
       "  border-radius: 0.25em;\n",
       "  color: var(--sklearn-color-text);\n",
       "  /* unfitted */\n",
       "  background-color: var(--sklearn-color-unfitted-level-0);\n",
       "}\n",
       "\n",
       "#sk-container-id-1 div.sk-toggleable__content.fitted pre {\n",
       "  /* unfitted */\n",
       "  background-color: var(--sklearn-color-fitted-level-0);\n",
       "}\n",
       "\n",
       "#sk-container-id-1 input.sk-toggleable__control:checked~div.sk-toggleable__content {\n",
       "  /* Expand drop-down */\n",
       "  display: block;\n",
       "  width: 100%;\n",
       "  overflow: visible;\n",
       "}\n",
       "\n",
       "#sk-container-id-1 input.sk-toggleable__control:checked~label.sk-toggleable__label-arrow:before {\n",
       "  content: \"▾\";\n",
       "}\n",
       "\n",
       "/* Pipeline/ColumnTransformer-specific style */\n",
       "\n",
       "#sk-container-id-1 div.sk-label input.sk-toggleable__control:checked~label.sk-toggleable__label {\n",
       "  color: var(--sklearn-color-text);\n",
       "  background-color: var(--sklearn-color-unfitted-level-2);\n",
       "}\n",
       "\n",
       "#sk-container-id-1 div.sk-label.fitted input.sk-toggleable__control:checked~label.sk-toggleable__label {\n",
       "  background-color: var(--sklearn-color-fitted-level-2);\n",
       "}\n",
       "\n",
       "/* Estimator-specific style */\n",
       "\n",
       "/* Colorize estimator box */\n",
       "#sk-container-id-1 div.sk-estimator input.sk-toggleable__control:checked~label.sk-toggleable__label {\n",
       "  /* unfitted */\n",
       "  background-color: var(--sklearn-color-unfitted-level-2);\n",
       "}\n",
       "\n",
       "#sk-container-id-1 div.sk-estimator.fitted input.sk-toggleable__control:checked~label.sk-toggleable__label {\n",
       "  /* fitted */\n",
       "  background-color: var(--sklearn-color-fitted-level-2);\n",
       "}\n",
       "\n",
       "#sk-container-id-1 div.sk-label label.sk-toggleable__label,\n",
       "#sk-container-id-1 div.sk-label label {\n",
       "  /* The background is the default theme color */\n",
       "  color: var(--sklearn-color-text-on-default-background);\n",
       "}\n",
       "\n",
       "/* On hover, darken the color of the background */\n",
       "#sk-container-id-1 div.sk-label:hover label.sk-toggleable__label {\n",
       "  color: var(--sklearn-color-text);\n",
       "  background-color: var(--sklearn-color-unfitted-level-2);\n",
       "}\n",
       "\n",
       "/* Label box, darken color on hover, fitted */\n",
       "#sk-container-id-1 div.sk-label.fitted:hover label.sk-toggleable__label.fitted {\n",
       "  color: var(--sklearn-color-text);\n",
       "  background-color: var(--sklearn-color-fitted-level-2);\n",
       "}\n",
       "\n",
       "/* Estimator label */\n",
       "\n",
       "#sk-container-id-1 div.sk-label label {\n",
       "  font-family: monospace;\n",
       "  font-weight: bold;\n",
       "  display: inline-block;\n",
       "  line-height: 1.2em;\n",
       "}\n",
       "\n",
       "#sk-container-id-1 div.sk-label-container {\n",
       "  text-align: center;\n",
       "}\n",
       "\n",
       "/* Estimator-specific */\n",
       "#sk-container-id-1 div.sk-estimator {\n",
       "  font-family: monospace;\n",
       "  border: 1px dotted var(--sklearn-color-border-box);\n",
       "  border-radius: 0.25em;\n",
       "  box-sizing: border-box;\n",
       "  margin-bottom: 0.5em;\n",
       "  /* unfitted */\n",
       "  background-color: var(--sklearn-color-unfitted-level-0);\n",
       "}\n",
       "\n",
       "#sk-container-id-1 div.sk-estimator.fitted {\n",
       "  /* fitted */\n",
       "  background-color: var(--sklearn-color-fitted-level-0);\n",
       "}\n",
       "\n",
       "/* on hover */\n",
       "#sk-container-id-1 div.sk-estimator:hover {\n",
       "  /* unfitted */\n",
       "  background-color: var(--sklearn-color-unfitted-level-2);\n",
       "}\n",
       "\n",
       "#sk-container-id-1 div.sk-estimator.fitted:hover {\n",
       "  /* fitted */\n",
       "  background-color: var(--sklearn-color-fitted-level-2);\n",
       "}\n",
       "\n",
       "/* Specification for estimator info (e.g. \"i\" and \"?\") */\n",
       "\n",
       "/* Common style for \"i\" and \"?\" */\n",
       "\n",
       ".sk-estimator-doc-link,\n",
       "a:link.sk-estimator-doc-link,\n",
       "a:visited.sk-estimator-doc-link {\n",
       "  float: right;\n",
       "  font-size: smaller;\n",
       "  line-height: 1em;\n",
       "  font-family: monospace;\n",
       "  background-color: var(--sklearn-color-background);\n",
       "  border-radius: 1em;\n",
       "  height: 1em;\n",
       "  width: 1em;\n",
       "  text-decoration: none !important;\n",
       "  margin-left: 0.5em;\n",
       "  text-align: center;\n",
       "  /* unfitted */\n",
       "  border: var(--sklearn-color-unfitted-level-1) 1pt solid;\n",
       "  color: var(--sklearn-color-unfitted-level-1);\n",
       "}\n",
       "\n",
       ".sk-estimator-doc-link.fitted,\n",
       "a:link.sk-estimator-doc-link.fitted,\n",
       "a:visited.sk-estimator-doc-link.fitted {\n",
       "  /* fitted */\n",
       "  border: var(--sklearn-color-fitted-level-1) 1pt solid;\n",
       "  color: var(--sklearn-color-fitted-level-1);\n",
       "}\n",
       "\n",
       "/* On hover */\n",
       "div.sk-estimator:hover .sk-estimator-doc-link:hover,\n",
       ".sk-estimator-doc-link:hover,\n",
       "div.sk-label-container:hover .sk-estimator-doc-link:hover,\n",
       ".sk-estimator-doc-link:hover {\n",
       "  /* unfitted */\n",
       "  background-color: var(--sklearn-color-unfitted-level-3);\n",
       "  color: var(--sklearn-color-background);\n",
       "  text-decoration: none;\n",
       "}\n",
       "\n",
       "div.sk-estimator.fitted:hover .sk-estimator-doc-link.fitted:hover,\n",
       ".sk-estimator-doc-link.fitted:hover,\n",
       "div.sk-label-container:hover .sk-estimator-doc-link.fitted:hover,\n",
       ".sk-estimator-doc-link.fitted:hover {\n",
       "  /* fitted */\n",
       "  background-color: var(--sklearn-color-fitted-level-3);\n",
       "  color: var(--sklearn-color-background);\n",
       "  text-decoration: none;\n",
       "}\n",
       "\n",
       "/* Span, style for the box shown on hovering the info icon */\n",
       ".sk-estimator-doc-link span {\n",
       "  display: none;\n",
       "  z-index: 9999;\n",
       "  position: relative;\n",
       "  font-weight: normal;\n",
       "  right: .2ex;\n",
       "  padding: .5ex;\n",
       "  margin: .5ex;\n",
       "  width: min-content;\n",
       "  min-width: 20ex;\n",
       "  max-width: 50ex;\n",
       "  color: var(--sklearn-color-text);\n",
       "  box-shadow: 2pt 2pt 4pt #999;\n",
       "  /* unfitted */\n",
       "  background: var(--sklearn-color-unfitted-level-0);\n",
       "  border: .5pt solid var(--sklearn-color-unfitted-level-3);\n",
       "}\n",
       "\n",
       ".sk-estimator-doc-link.fitted span {\n",
       "  /* fitted */\n",
       "  background: var(--sklearn-color-fitted-level-0);\n",
       "  border: var(--sklearn-color-fitted-level-3);\n",
       "}\n",
       "\n",
       ".sk-estimator-doc-link:hover span {\n",
       "  display: block;\n",
       "}\n",
       "\n",
       "/* \"?\"-specific style due to the `<a>` HTML tag */\n",
       "\n",
       "#sk-container-id-1 a.estimator_doc_link {\n",
       "  float: right;\n",
       "  font-size: 1rem;\n",
       "  line-height: 1em;\n",
       "  font-family: monospace;\n",
       "  background-color: var(--sklearn-color-background);\n",
       "  border-radius: 1rem;\n",
       "  height: 1rem;\n",
       "  width: 1rem;\n",
       "  text-decoration: none;\n",
       "  /* unfitted */\n",
       "  color: var(--sklearn-color-unfitted-level-1);\n",
       "  border: var(--sklearn-color-unfitted-level-1) 1pt solid;\n",
       "}\n",
       "\n",
       "#sk-container-id-1 a.estimator_doc_link.fitted {\n",
       "  /* fitted */\n",
       "  border: var(--sklearn-color-fitted-level-1) 1pt solid;\n",
       "  color: var(--sklearn-color-fitted-level-1);\n",
       "}\n",
       "\n",
       "/* On hover */\n",
       "#sk-container-id-1 a.estimator_doc_link:hover {\n",
       "  /* unfitted */\n",
       "  background-color: var(--sklearn-color-unfitted-level-3);\n",
       "  color: var(--sklearn-color-background);\n",
       "  text-decoration: none;\n",
       "}\n",
       "\n",
       "#sk-container-id-1 a.estimator_doc_link.fitted:hover {\n",
       "  /* fitted */\n",
       "  background-color: var(--sklearn-color-fitted-level-3);\n",
       "}\n",
       "\n",
       ".estimator-table summary {\n",
       "    padding: .5rem;\n",
       "    font-family: monospace;\n",
       "    cursor: pointer;\n",
       "}\n",
       "\n",
       ".estimator-table details[open] {\n",
       "    padding-left: 0.1rem;\n",
       "    padding-right: 0.1rem;\n",
       "    padding-bottom: 0.3rem;\n",
       "}\n",
       "\n",
       ".estimator-table .parameters-table {\n",
       "    margin-left: auto !important;\n",
       "    margin-right: auto !important;\n",
       "}\n",
       "\n",
       ".estimator-table .parameters-table tr:nth-child(odd) {\n",
       "    background-color: #fff;\n",
       "}\n",
       "\n",
       ".estimator-table .parameters-table tr:nth-child(even) {\n",
       "    background-color: #f6f6f6;\n",
       "}\n",
       "\n",
       ".estimator-table .parameters-table tr:hover {\n",
       "    background-color: #e0e0e0;\n",
       "}\n",
       "\n",
       ".estimator-table table td {\n",
       "    border: 1px solid rgba(106, 105, 104, 0.232);\n",
       "}\n",
       "\n",
       ".user-set td {\n",
       "    color:rgb(255, 94, 0);\n",
       "    text-align: left;\n",
       "}\n",
       "\n",
       ".user-set td.value pre {\n",
       "    color:rgb(255, 94, 0) !important;\n",
       "    background-color: transparent !important;\n",
       "}\n",
       "\n",
       ".default td {\n",
       "    color: black;\n",
       "    text-align: left;\n",
       "}\n",
       "\n",
       ".user-set td i,\n",
       ".default td i {\n",
       "    color: black;\n",
       "}\n",
       "\n",
       ".copy-paste-icon {\n",
       "    background-image: url(data:image/svg+xml;base64,PHN2ZyB4bWxucz0iaHR0cDovL3d3dy53My5vcmcvMjAwMC9zdmciIHZpZXdCb3g9IjAgMCA0NDggNTEyIj48IS0tIUZvbnQgQXdlc29tZSBGcmVlIDYuNy4yIGJ5IEBmb250YXdlc29tZSAtIGh0dHBzOi8vZm9udGF3ZXNvbWUuY29tIExpY2Vuc2UgLSBodHRwczovL2ZvbnRhd2Vzb21lLmNvbS9saWNlbnNlL2ZyZWUgQ29weXJpZ2h0IDIwMjUgRm9udGljb25zLCBJbmMuLS0+PHBhdGggZD0iTTIwOCAwTDMzMi4xIDBjMTIuNyAwIDI0LjkgNS4xIDMzLjkgMTQuMWw2Ny45IDY3LjljOSA5IDE0LjEgMjEuMiAxNC4xIDMzLjlMNDQ4IDMzNmMwIDI2LjUtMjEuNSA0OC00OCA0OGwtMTkyIDBjLTI2LjUgMC00OC0yMS41LTQ4LTQ4bDAtMjg4YzAtMjYuNSAyMS41LTQ4IDQ4LTQ4ek00OCAxMjhsODAgMCAwIDY0LTY0IDAgMCAyNTYgMTkyIDAgMC0zMiA2NCAwIDAgNDhjMCAyNi41LTIxLjUgNDgtNDggNDhMNDggNTEyYy0yNi41IDAtNDgtMjEuNS00OC00OEwwIDE3NmMwLTI2LjUgMjEuNS00OCA0OC00OHoiLz48L3N2Zz4=);\n",
       "    background-repeat: no-repeat;\n",
       "    background-size: 14px 14px;\n",
       "    background-position: 0;\n",
       "    display: inline-block;\n",
       "    width: 14px;\n",
       "    height: 14px;\n",
       "    cursor: pointer;\n",
       "}\n",
       "</style><body><div id=\"sk-container-id-1\" class=\"sk-top-container\"><div class=\"sk-text-repr-fallback\"><pre>Pipeline(steps=[(&#x27;preprocessor&#x27;,\n",
       "                 ColumnTransformer(transformers=[(&#x27;cat&#x27;,\n",
       "                                                  OneHotEncoder(handle_unknown=&#x27;ignore&#x27;),\n",
       "                                                  [&#x27;area_type&#x27;, &#x27;availability&#x27;,\n",
       "                                                   &#x27;location&#x27;]),\n",
       "                                                 (&#x27;num&#x27;, StandardScaler(),\n",
       "                                                  [&#x27;total_sqft&#x27;, &#x27;bath&#x27;,\n",
       "                                                   &#x27;balcony&#x27;])])),\n",
       "                (&#x27;model&#x27;,\n",
       "                 XGBRegressor(base_score=None, booster=None, callbacks=None,\n",
       "                              colsample_bylevel=None, colsample_bynode=None,\n",
       "                              colsample_bytree=0.715916803...\n",
       "                              gamma=None, grow_policy=None,\n",
       "                              importance_type=None,\n",
       "                              interaction_constraints=None,\n",
       "                              learning_rate=0.18579052942455954, max_bin=None,\n",
       "                              max_cat_threshold=None, max_cat_to_onehot=None,\n",
       "                              max_delta_step=None, max_depth=14,\n",
       "                              max_leaves=None, min_child_weight=None,\n",
       "                              missing=nan, monotone_constraints=None,\n",
       "                              multi_strategy=None, n_estimators=455, n_jobs=-1,\n",
       "                              num_parallel_tree=None, ...))])</pre><b>In a Jupyter environment, please rerun this cell to show the HTML representation or trust the notebook. <br />On GitHub, the HTML representation is unable to render, please try loading this page with nbviewer.org.</b></div><div class=\"sk-container\" hidden><div class=\"sk-item sk-dashed-wrapped\"><div class=\"sk-label-container\"><div class=\"sk-label fitted sk-toggleable\"><input class=\"sk-toggleable__control sk-hidden--visually\" id=\"sk-estimator-id-1\" type=\"checkbox\" ><label for=\"sk-estimator-id-1\" class=\"sk-toggleable__label fitted sk-toggleable__label-arrow\"><div><div>Pipeline</div></div><div><a class=\"sk-estimator-doc-link fitted\" rel=\"noreferrer\" target=\"_blank\" href=\"https://scikit-learn.org/1.7/modules/generated/sklearn.pipeline.Pipeline.html\">?<span>Documentation for Pipeline</span></a><span class=\"sk-estimator-doc-link fitted\">i<span>Fitted</span></span></div></label><div class=\"sk-toggleable__content fitted\" data-param-prefix=\"\">\n",
       "        <div class=\"estimator-table\">\n",
       "            <details>\n",
       "                <summary>Parameters</summary>\n",
       "                <table class=\"parameters-table\">\n",
       "                  <tbody>\n",
       "                    \n",
       "        <tr class=\"user-set\">\n",
       "            <td><i class=\"copy-paste-icon\"\n",
       "                 onclick=\"copyToClipboard('steps',\n",
       "                          this.parentElement.nextElementSibling)\"\n",
       "            ></i></td>\n",
       "            <td class=\"param\">steps&nbsp;</td>\n",
       "            <td class=\"value\">[(&#x27;preprocessor&#x27;, ...), (&#x27;model&#x27;, ...)]</td>\n",
       "        </tr>\n",
       "    \n",
       "\n",
       "        <tr class=\"default\">\n",
       "            <td><i class=\"copy-paste-icon\"\n",
       "                 onclick=\"copyToClipboard('transform_input',\n",
       "                          this.parentElement.nextElementSibling)\"\n",
       "            ></i></td>\n",
       "            <td class=\"param\">transform_input&nbsp;</td>\n",
       "            <td class=\"value\">None</td>\n",
       "        </tr>\n",
       "    \n",
       "\n",
       "        <tr class=\"default\">\n",
       "            <td><i class=\"copy-paste-icon\"\n",
       "                 onclick=\"copyToClipboard('memory',\n",
       "                          this.parentElement.nextElementSibling)\"\n",
       "            ></i></td>\n",
       "            <td class=\"param\">memory&nbsp;</td>\n",
       "            <td class=\"value\">None</td>\n",
       "        </tr>\n",
       "    \n",
       "\n",
       "        <tr class=\"default\">\n",
       "            <td><i class=\"copy-paste-icon\"\n",
       "                 onclick=\"copyToClipboard('verbose',\n",
       "                          this.parentElement.nextElementSibling)\"\n",
       "            ></i></td>\n",
       "            <td class=\"param\">verbose&nbsp;</td>\n",
       "            <td class=\"value\">False</td>\n",
       "        </tr>\n",
       "    \n",
       "                  </tbody>\n",
       "                </table>\n",
       "            </details>\n",
       "        </div>\n",
       "    </div></div></div><div class=\"sk-serial\"><div class=\"sk-item sk-dashed-wrapped\"><div class=\"sk-label-container\"><div class=\"sk-label fitted sk-toggleable\"><input class=\"sk-toggleable__control sk-hidden--visually\" id=\"sk-estimator-id-2\" type=\"checkbox\" ><label for=\"sk-estimator-id-2\" class=\"sk-toggleable__label fitted sk-toggleable__label-arrow\"><div><div>preprocessor: ColumnTransformer</div></div><div><a class=\"sk-estimator-doc-link fitted\" rel=\"noreferrer\" target=\"_blank\" href=\"https://scikit-learn.org/1.7/modules/generated/sklearn.compose.ColumnTransformer.html\">?<span>Documentation for preprocessor: ColumnTransformer</span></a></div></label><div class=\"sk-toggleable__content fitted\" data-param-prefix=\"preprocessor__\">\n",
       "        <div class=\"estimator-table\">\n",
       "            <details>\n",
       "                <summary>Parameters</summary>\n",
       "                <table class=\"parameters-table\">\n",
       "                  <tbody>\n",
       "                    \n",
       "        <tr class=\"user-set\">\n",
       "            <td><i class=\"copy-paste-icon\"\n",
       "                 onclick=\"copyToClipboard('transformers',\n",
       "                          this.parentElement.nextElementSibling)\"\n",
       "            ></i></td>\n",
       "            <td class=\"param\">transformers&nbsp;</td>\n",
       "            <td class=\"value\">[(&#x27;cat&#x27;, ...), (&#x27;num&#x27;, ...)]</td>\n",
       "        </tr>\n",
       "    \n",
       "\n",
       "        <tr class=\"default\">\n",
       "            <td><i class=\"copy-paste-icon\"\n",
       "                 onclick=\"copyToClipboard('remainder',\n",
       "                          this.parentElement.nextElementSibling)\"\n",
       "            ></i></td>\n",
       "            <td class=\"param\">remainder&nbsp;</td>\n",
       "            <td class=\"value\">&#x27;drop&#x27;</td>\n",
       "        </tr>\n",
       "    \n",
       "\n",
       "        <tr class=\"default\">\n",
       "            <td><i class=\"copy-paste-icon\"\n",
       "                 onclick=\"copyToClipboard('sparse_threshold',\n",
       "                          this.parentElement.nextElementSibling)\"\n",
       "            ></i></td>\n",
       "            <td class=\"param\">sparse_threshold&nbsp;</td>\n",
       "            <td class=\"value\">0.3</td>\n",
       "        </tr>\n",
       "    \n",
       "\n",
       "        <tr class=\"default\">\n",
       "            <td><i class=\"copy-paste-icon\"\n",
       "                 onclick=\"copyToClipboard('n_jobs',\n",
       "                          this.parentElement.nextElementSibling)\"\n",
       "            ></i></td>\n",
       "            <td class=\"param\">n_jobs&nbsp;</td>\n",
       "            <td class=\"value\">None</td>\n",
       "        </tr>\n",
       "    \n",
       "\n",
       "        <tr class=\"default\">\n",
       "            <td><i class=\"copy-paste-icon\"\n",
       "                 onclick=\"copyToClipboard('transformer_weights',\n",
       "                          this.parentElement.nextElementSibling)\"\n",
       "            ></i></td>\n",
       "            <td class=\"param\">transformer_weights&nbsp;</td>\n",
       "            <td class=\"value\">None</td>\n",
       "        </tr>\n",
       "    \n",
       "\n",
       "        <tr class=\"default\">\n",
       "            <td><i class=\"copy-paste-icon\"\n",
       "                 onclick=\"copyToClipboard('verbose',\n",
       "                          this.parentElement.nextElementSibling)\"\n",
       "            ></i></td>\n",
       "            <td class=\"param\">verbose&nbsp;</td>\n",
       "            <td class=\"value\">False</td>\n",
       "        </tr>\n",
       "    \n",
       "\n",
       "        <tr class=\"default\">\n",
       "            <td><i class=\"copy-paste-icon\"\n",
       "                 onclick=\"copyToClipboard('verbose_feature_names_out',\n",
       "                          this.parentElement.nextElementSibling)\"\n",
       "            ></i></td>\n",
       "            <td class=\"param\">verbose_feature_names_out&nbsp;</td>\n",
       "            <td class=\"value\">True</td>\n",
       "        </tr>\n",
       "    \n",
       "\n",
       "        <tr class=\"default\">\n",
       "            <td><i class=\"copy-paste-icon\"\n",
       "                 onclick=\"copyToClipboard('force_int_remainder_cols',\n",
       "                          this.parentElement.nextElementSibling)\"\n",
       "            ></i></td>\n",
       "            <td class=\"param\">force_int_remainder_cols&nbsp;</td>\n",
       "            <td class=\"value\">&#x27;deprecated&#x27;</td>\n",
       "        </tr>\n",
       "    \n",
       "                  </tbody>\n",
       "                </table>\n",
       "            </details>\n",
       "        </div>\n",
       "    </div></div></div><div class=\"sk-parallel\"><div class=\"sk-parallel-item\"><div class=\"sk-item\"><div class=\"sk-label-container\"><div class=\"sk-label fitted sk-toggleable\"><input class=\"sk-toggleable__control sk-hidden--visually\" id=\"sk-estimator-id-3\" type=\"checkbox\" ><label for=\"sk-estimator-id-3\" class=\"sk-toggleable__label fitted sk-toggleable__label-arrow\"><div><div>cat</div></div></label><div class=\"sk-toggleable__content fitted\" data-param-prefix=\"preprocessor__cat__\"><pre>[&#x27;area_type&#x27;, &#x27;availability&#x27;, &#x27;location&#x27;]</pre></div></div></div><div class=\"sk-serial\"><div class=\"sk-item\"><div class=\"sk-estimator fitted sk-toggleable\"><input class=\"sk-toggleable__control sk-hidden--visually\" id=\"sk-estimator-id-4\" type=\"checkbox\" ><label for=\"sk-estimator-id-4\" class=\"sk-toggleable__label fitted sk-toggleable__label-arrow\"><div><div>OneHotEncoder</div></div><div><a class=\"sk-estimator-doc-link fitted\" rel=\"noreferrer\" target=\"_blank\" href=\"https://scikit-learn.org/1.7/modules/generated/sklearn.preprocessing.OneHotEncoder.html\">?<span>Documentation for OneHotEncoder</span></a></div></label><div class=\"sk-toggleable__content fitted\" data-param-prefix=\"preprocessor__cat__\">\n",
       "        <div class=\"estimator-table\">\n",
       "            <details>\n",
       "                <summary>Parameters</summary>\n",
       "                <table class=\"parameters-table\">\n",
       "                  <tbody>\n",
       "                    \n",
       "        <tr class=\"default\">\n",
       "            <td><i class=\"copy-paste-icon\"\n",
       "                 onclick=\"copyToClipboard('categories',\n",
       "                          this.parentElement.nextElementSibling)\"\n",
       "            ></i></td>\n",
       "            <td class=\"param\">categories&nbsp;</td>\n",
       "            <td class=\"value\">&#x27;auto&#x27;</td>\n",
       "        </tr>\n",
       "    \n",
       "\n",
       "        <tr class=\"default\">\n",
       "            <td><i class=\"copy-paste-icon\"\n",
       "                 onclick=\"copyToClipboard('drop',\n",
       "                          this.parentElement.nextElementSibling)\"\n",
       "            ></i></td>\n",
       "            <td class=\"param\">drop&nbsp;</td>\n",
       "            <td class=\"value\">None</td>\n",
       "        </tr>\n",
       "    \n",
       "\n",
       "        <tr class=\"default\">\n",
       "            <td><i class=\"copy-paste-icon\"\n",
       "                 onclick=\"copyToClipboard('sparse_output',\n",
       "                          this.parentElement.nextElementSibling)\"\n",
       "            ></i></td>\n",
       "            <td class=\"param\">sparse_output&nbsp;</td>\n",
       "            <td class=\"value\">True</td>\n",
       "        </tr>\n",
       "    \n",
       "\n",
       "        <tr class=\"default\">\n",
       "            <td><i class=\"copy-paste-icon\"\n",
       "                 onclick=\"copyToClipboard('dtype',\n",
       "                          this.parentElement.nextElementSibling)\"\n",
       "            ></i></td>\n",
       "            <td class=\"param\">dtype&nbsp;</td>\n",
       "            <td class=\"value\">&lt;class &#x27;numpy.float64&#x27;&gt;</td>\n",
       "        </tr>\n",
       "    \n",
       "\n",
       "        <tr class=\"user-set\">\n",
       "            <td><i class=\"copy-paste-icon\"\n",
       "                 onclick=\"copyToClipboard('handle_unknown',\n",
       "                          this.parentElement.nextElementSibling)\"\n",
       "            ></i></td>\n",
       "            <td class=\"param\">handle_unknown&nbsp;</td>\n",
       "            <td class=\"value\">&#x27;ignore&#x27;</td>\n",
       "        </tr>\n",
       "    \n",
       "\n",
       "        <tr class=\"default\">\n",
       "            <td><i class=\"copy-paste-icon\"\n",
       "                 onclick=\"copyToClipboard('min_frequency',\n",
       "                          this.parentElement.nextElementSibling)\"\n",
       "            ></i></td>\n",
       "            <td class=\"param\">min_frequency&nbsp;</td>\n",
       "            <td class=\"value\">None</td>\n",
       "        </tr>\n",
       "    \n",
       "\n",
       "        <tr class=\"default\">\n",
       "            <td><i class=\"copy-paste-icon\"\n",
       "                 onclick=\"copyToClipboard('max_categories',\n",
       "                          this.parentElement.nextElementSibling)\"\n",
       "            ></i></td>\n",
       "            <td class=\"param\">max_categories&nbsp;</td>\n",
       "            <td class=\"value\">None</td>\n",
       "        </tr>\n",
       "    \n",
       "\n",
       "        <tr class=\"default\">\n",
       "            <td><i class=\"copy-paste-icon\"\n",
       "                 onclick=\"copyToClipboard('feature_name_combiner',\n",
       "                          this.parentElement.nextElementSibling)\"\n",
       "            ></i></td>\n",
       "            <td class=\"param\">feature_name_combiner&nbsp;</td>\n",
       "            <td class=\"value\">&#x27;concat&#x27;</td>\n",
       "        </tr>\n",
       "    \n",
       "                  </tbody>\n",
       "                </table>\n",
       "            </details>\n",
       "        </div>\n",
       "    </div></div></div></div></div></div><div class=\"sk-parallel-item\"><div class=\"sk-item\"><div class=\"sk-label-container\"><div class=\"sk-label fitted sk-toggleable\"><input class=\"sk-toggleable__control sk-hidden--visually\" id=\"sk-estimator-id-5\" type=\"checkbox\" ><label for=\"sk-estimator-id-5\" class=\"sk-toggleable__label fitted sk-toggleable__label-arrow\"><div><div>num</div></div></label><div class=\"sk-toggleable__content fitted\" data-param-prefix=\"preprocessor__num__\"><pre>[&#x27;total_sqft&#x27;, &#x27;bath&#x27;, &#x27;balcony&#x27;]</pre></div></div></div><div class=\"sk-serial\"><div class=\"sk-item\"><div class=\"sk-estimator fitted sk-toggleable\"><input class=\"sk-toggleable__control sk-hidden--visually\" id=\"sk-estimator-id-6\" type=\"checkbox\" ><label for=\"sk-estimator-id-6\" class=\"sk-toggleable__label fitted sk-toggleable__label-arrow\"><div><div>StandardScaler</div></div><div><a class=\"sk-estimator-doc-link fitted\" rel=\"noreferrer\" target=\"_blank\" href=\"https://scikit-learn.org/1.7/modules/generated/sklearn.preprocessing.StandardScaler.html\">?<span>Documentation for StandardScaler</span></a></div></label><div class=\"sk-toggleable__content fitted\" data-param-prefix=\"preprocessor__num__\">\n",
       "        <div class=\"estimator-table\">\n",
       "            <details>\n",
       "                <summary>Parameters</summary>\n",
       "                <table class=\"parameters-table\">\n",
       "                  <tbody>\n",
       "                    \n",
       "        <tr class=\"default\">\n",
       "            <td><i class=\"copy-paste-icon\"\n",
       "                 onclick=\"copyToClipboard('copy',\n",
       "                          this.parentElement.nextElementSibling)\"\n",
       "            ></i></td>\n",
       "            <td class=\"param\">copy&nbsp;</td>\n",
       "            <td class=\"value\">True</td>\n",
       "        </tr>\n",
       "    \n",
       "\n",
       "        <tr class=\"default\">\n",
       "            <td><i class=\"copy-paste-icon\"\n",
       "                 onclick=\"copyToClipboard('with_mean',\n",
       "                          this.parentElement.nextElementSibling)\"\n",
       "            ></i></td>\n",
       "            <td class=\"param\">with_mean&nbsp;</td>\n",
       "            <td class=\"value\">True</td>\n",
       "        </tr>\n",
       "    \n",
       "\n",
       "        <tr class=\"default\">\n",
       "            <td><i class=\"copy-paste-icon\"\n",
       "                 onclick=\"copyToClipboard('with_std',\n",
       "                          this.parentElement.nextElementSibling)\"\n",
       "            ></i></td>\n",
       "            <td class=\"param\">with_std&nbsp;</td>\n",
       "            <td class=\"value\">True</td>\n",
       "        </tr>\n",
       "    \n",
       "                  </tbody>\n",
       "                </table>\n",
       "            </details>\n",
       "        </div>\n",
       "    </div></div></div></div></div></div></div></div><div class=\"sk-item\"><div class=\"sk-estimator fitted sk-toggleable\"><input class=\"sk-toggleable__control sk-hidden--visually\" id=\"sk-estimator-id-7\" type=\"checkbox\" ><label for=\"sk-estimator-id-7\" class=\"sk-toggleable__label fitted sk-toggleable__label-arrow\"><div><div>XGBRegressor</div></div><div><a class=\"sk-estimator-doc-link fitted\" rel=\"noreferrer\" target=\"_blank\" href=\"https://xgboost.readthedocs.io/en/release_3.0.0/python/python_api.html#xgboost.XGBRegressor\">?<span>Documentation for XGBRegressor</span></a></div></label><div class=\"sk-toggleable__content fitted\" data-param-prefix=\"model__\">\n",
       "        <div class=\"estimator-table\">\n",
       "            <details>\n",
       "                <summary>Parameters</summary>\n",
       "                <table class=\"parameters-table\">\n",
       "                  <tbody>\n",
       "                    \n",
       "        <tr class=\"default\">\n",
       "            <td><i class=\"copy-paste-icon\"\n",
       "                 onclick=\"copyToClipboard('objective',\n",
       "                          this.parentElement.nextElementSibling)\"\n",
       "            ></i></td>\n",
       "            <td class=\"param\">objective&nbsp;</td>\n",
       "            <td class=\"value\">&#x27;reg:squarederror&#x27;</td>\n",
       "        </tr>\n",
       "    \n",
       "\n",
       "        <tr class=\"user-set\">\n",
       "            <td><i class=\"copy-paste-icon\"\n",
       "                 onclick=\"copyToClipboard('base_score',\n",
       "                          this.parentElement.nextElementSibling)\"\n",
       "            ></i></td>\n",
       "            <td class=\"param\">base_score&nbsp;</td>\n",
       "            <td class=\"value\">None</td>\n",
       "        </tr>\n",
       "    \n",
       "\n",
       "        <tr class=\"user-set\">\n",
       "            <td><i class=\"copy-paste-icon\"\n",
       "                 onclick=\"copyToClipboard('booster',\n",
       "                          this.parentElement.nextElementSibling)\"\n",
       "            ></i></td>\n",
       "            <td class=\"param\">booster&nbsp;</td>\n",
       "            <td class=\"value\">None</td>\n",
       "        </tr>\n",
       "    \n",
       "\n",
       "        <tr class=\"user-set\">\n",
       "            <td><i class=\"copy-paste-icon\"\n",
       "                 onclick=\"copyToClipboard('callbacks',\n",
       "                          this.parentElement.nextElementSibling)\"\n",
       "            ></i></td>\n",
       "            <td class=\"param\">callbacks&nbsp;</td>\n",
       "            <td class=\"value\">None</td>\n",
       "        </tr>\n",
       "    \n",
       "\n",
       "        <tr class=\"user-set\">\n",
       "            <td><i class=\"copy-paste-icon\"\n",
       "                 onclick=\"copyToClipboard('colsample_bylevel',\n",
       "                          this.parentElement.nextElementSibling)\"\n",
       "            ></i></td>\n",
       "            <td class=\"param\">colsample_bylevel&nbsp;</td>\n",
       "            <td class=\"value\">None</td>\n",
       "        </tr>\n",
       "    \n",
       "\n",
       "        <tr class=\"user-set\">\n",
       "            <td><i class=\"copy-paste-icon\"\n",
       "                 onclick=\"copyToClipboard('colsample_bynode',\n",
       "                          this.parentElement.nextElementSibling)\"\n",
       "            ></i></td>\n",
       "            <td class=\"param\">colsample_bynode&nbsp;</td>\n",
       "            <td class=\"value\">None</td>\n",
       "        </tr>\n",
       "    \n",
       "\n",
       "        <tr class=\"user-set\">\n",
       "            <td><i class=\"copy-paste-icon\"\n",
       "                 onclick=\"copyToClipboard('colsample_bytree',\n",
       "                          this.parentElement.nextElementSibling)\"\n",
       "            ></i></td>\n",
       "            <td class=\"param\">colsample_bytree&nbsp;</td>\n",
       "            <td class=\"value\">0.7159168039483006</td>\n",
       "        </tr>\n",
       "    \n",
       "\n",
       "        <tr class=\"user-set\">\n",
       "            <td><i class=\"copy-paste-icon\"\n",
       "                 onclick=\"copyToClipboard('device',\n",
       "                          this.parentElement.nextElementSibling)\"\n",
       "            ></i></td>\n",
       "            <td class=\"param\">device&nbsp;</td>\n",
       "            <td class=\"value\">None</td>\n",
       "        </tr>\n",
       "    \n",
       "\n",
       "        <tr class=\"user-set\">\n",
       "            <td><i class=\"copy-paste-icon\"\n",
       "                 onclick=\"copyToClipboard('early_stopping_rounds',\n",
       "                          this.parentElement.nextElementSibling)\"\n",
       "            ></i></td>\n",
       "            <td class=\"param\">early_stopping_rounds&nbsp;</td>\n",
       "            <td class=\"value\">None</td>\n",
       "        </tr>\n",
       "    \n",
       "\n",
       "        <tr class=\"user-set\">\n",
       "            <td><i class=\"copy-paste-icon\"\n",
       "                 onclick=\"copyToClipboard('enable_categorical',\n",
       "                          this.parentElement.nextElementSibling)\"\n",
       "            ></i></td>\n",
       "            <td class=\"param\">enable_categorical&nbsp;</td>\n",
       "            <td class=\"value\">False</td>\n",
       "        </tr>\n",
       "    \n",
       "\n",
       "        <tr class=\"user-set\">\n",
       "            <td><i class=\"copy-paste-icon\"\n",
       "                 onclick=\"copyToClipboard('eval_metric',\n",
       "                          this.parentElement.nextElementSibling)\"\n",
       "            ></i></td>\n",
       "            <td class=\"param\">eval_metric&nbsp;</td>\n",
       "            <td class=\"value\">None</td>\n",
       "        </tr>\n",
       "    \n",
       "\n",
       "        <tr class=\"user-set\">\n",
       "            <td><i class=\"copy-paste-icon\"\n",
       "                 onclick=\"copyToClipboard('feature_types',\n",
       "                          this.parentElement.nextElementSibling)\"\n",
       "            ></i></td>\n",
       "            <td class=\"param\">feature_types&nbsp;</td>\n",
       "            <td class=\"value\">None</td>\n",
       "        </tr>\n",
       "    \n",
       "\n",
       "        <tr class=\"user-set\">\n",
       "            <td><i class=\"copy-paste-icon\"\n",
       "                 onclick=\"copyToClipboard('feature_weights',\n",
       "                          this.parentElement.nextElementSibling)\"\n",
       "            ></i></td>\n",
       "            <td class=\"param\">feature_weights&nbsp;</td>\n",
       "            <td class=\"value\">None</td>\n",
       "        </tr>\n",
       "    \n",
       "\n",
       "        <tr class=\"user-set\">\n",
       "            <td><i class=\"copy-paste-icon\"\n",
       "                 onclick=\"copyToClipboard('gamma',\n",
       "                          this.parentElement.nextElementSibling)\"\n",
       "            ></i></td>\n",
       "            <td class=\"param\">gamma&nbsp;</td>\n",
       "            <td class=\"value\">None</td>\n",
       "        </tr>\n",
       "    \n",
       "\n",
       "        <tr class=\"user-set\">\n",
       "            <td><i class=\"copy-paste-icon\"\n",
       "                 onclick=\"copyToClipboard('grow_policy',\n",
       "                          this.parentElement.nextElementSibling)\"\n",
       "            ></i></td>\n",
       "            <td class=\"param\">grow_policy&nbsp;</td>\n",
       "            <td class=\"value\">None</td>\n",
       "        </tr>\n",
       "    \n",
       "\n",
       "        <tr class=\"user-set\">\n",
       "            <td><i class=\"copy-paste-icon\"\n",
       "                 onclick=\"copyToClipboard('importance_type',\n",
       "                          this.parentElement.nextElementSibling)\"\n",
       "            ></i></td>\n",
       "            <td class=\"param\">importance_type&nbsp;</td>\n",
       "            <td class=\"value\">None</td>\n",
       "        </tr>\n",
       "    \n",
       "\n",
       "        <tr class=\"user-set\">\n",
       "            <td><i class=\"copy-paste-icon\"\n",
       "                 onclick=\"copyToClipboard('interaction_constraints',\n",
       "                          this.parentElement.nextElementSibling)\"\n",
       "            ></i></td>\n",
       "            <td class=\"param\">interaction_constraints&nbsp;</td>\n",
       "            <td class=\"value\">None</td>\n",
       "        </tr>\n",
       "    \n",
       "\n",
       "        <tr class=\"user-set\">\n",
       "            <td><i class=\"copy-paste-icon\"\n",
       "                 onclick=\"copyToClipboard('learning_rate',\n",
       "                          this.parentElement.nextElementSibling)\"\n",
       "            ></i></td>\n",
       "            <td class=\"param\">learning_rate&nbsp;</td>\n",
       "            <td class=\"value\">0.18579052942455954</td>\n",
       "        </tr>\n",
       "    \n",
       "\n",
       "        <tr class=\"user-set\">\n",
       "            <td><i class=\"copy-paste-icon\"\n",
       "                 onclick=\"copyToClipboard('max_bin',\n",
       "                          this.parentElement.nextElementSibling)\"\n",
       "            ></i></td>\n",
       "            <td class=\"param\">max_bin&nbsp;</td>\n",
       "            <td class=\"value\">None</td>\n",
       "        </tr>\n",
       "    \n",
       "\n",
       "        <tr class=\"user-set\">\n",
       "            <td><i class=\"copy-paste-icon\"\n",
       "                 onclick=\"copyToClipboard('max_cat_threshold',\n",
       "                          this.parentElement.nextElementSibling)\"\n",
       "            ></i></td>\n",
       "            <td class=\"param\">max_cat_threshold&nbsp;</td>\n",
       "            <td class=\"value\">None</td>\n",
       "        </tr>\n",
       "    \n",
       "\n",
       "        <tr class=\"user-set\">\n",
       "            <td><i class=\"copy-paste-icon\"\n",
       "                 onclick=\"copyToClipboard('max_cat_to_onehot',\n",
       "                          this.parentElement.nextElementSibling)\"\n",
       "            ></i></td>\n",
       "            <td class=\"param\">max_cat_to_onehot&nbsp;</td>\n",
       "            <td class=\"value\">None</td>\n",
       "        </tr>\n",
       "    \n",
       "\n",
       "        <tr class=\"user-set\">\n",
       "            <td><i class=\"copy-paste-icon\"\n",
       "                 onclick=\"copyToClipboard('max_delta_step',\n",
       "                          this.parentElement.nextElementSibling)\"\n",
       "            ></i></td>\n",
       "            <td class=\"param\">max_delta_step&nbsp;</td>\n",
       "            <td class=\"value\">None</td>\n",
       "        </tr>\n",
       "    \n",
       "\n",
       "        <tr class=\"user-set\">\n",
       "            <td><i class=\"copy-paste-icon\"\n",
       "                 onclick=\"copyToClipboard('max_depth',\n",
       "                          this.parentElement.nextElementSibling)\"\n",
       "            ></i></td>\n",
       "            <td class=\"param\">max_depth&nbsp;</td>\n",
       "            <td class=\"value\">14</td>\n",
       "        </tr>\n",
       "    \n",
       "\n",
       "        <tr class=\"user-set\">\n",
       "            <td><i class=\"copy-paste-icon\"\n",
       "                 onclick=\"copyToClipboard('max_leaves',\n",
       "                          this.parentElement.nextElementSibling)\"\n",
       "            ></i></td>\n",
       "            <td class=\"param\">max_leaves&nbsp;</td>\n",
       "            <td class=\"value\">None</td>\n",
       "        </tr>\n",
       "    \n",
       "\n",
       "        <tr class=\"user-set\">\n",
       "            <td><i class=\"copy-paste-icon\"\n",
       "                 onclick=\"copyToClipboard('min_child_weight',\n",
       "                          this.parentElement.nextElementSibling)\"\n",
       "            ></i></td>\n",
       "            <td class=\"param\">min_child_weight&nbsp;</td>\n",
       "            <td class=\"value\">None</td>\n",
       "        </tr>\n",
       "    \n",
       "\n",
       "        <tr class=\"user-set\">\n",
       "            <td><i class=\"copy-paste-icon\"\n",
       "                 onclick=\"copyToClipboard('missing',\n",
       "                          this.parentElement.nextElementSibling)\"\n",
       "            ></i></td>\n",
       "            <td class=\"param\">missing&nbsp;</td>\n",
       "            <td class=\"value\">nan</td>\n",
       "        </tr>\n",
       "    \n",
       "\n",
       "        <tr class=\"user-set\">\n",
       "            <td><i class=\"copy-paste-icon\"\n",
       "                 onclick=\"copyToClipboard('monotone_constraints',\n",
       "                          this.parentElement.nextElementSibling)\"\n",
       "            ></i></td>\n",
       "            <td class=\"param\">monotone_constraints&nbsp;</td>\n",
       "            <td class=\"value\">None</td>\n",
       "        </tr>\n",
       "    \n",
       "\n",
       "        <tr class=\"user-set\">\n",
       "            <td><i class=\"copy-paste-icon\"\n",
       "                 onclick=\"copyToClipboard('multi_strategy',\n",
       "                          this.parentElement.nextElementSibling)\"\n",
       "            ></i></td>\n",
       "            <td class=\"param\">multi_strategy&nbsp;</td>\n",
       "            <td class=\"value\">None</td>\n",
       "        </tr>\n",
       "    \n",
       "\n",
       "        <tr class=\"user-set\">\n",
       "            <td><i class=\"copy-paste-icon\"\n",
       "                 onclick=\"copyToClipboard('n_estimators',\n",
       "                          this.parentElement.nextElementSibling)\"\n",
       "            ></i></td>\n",
       "            <td class=\"param\">n_estimators&nbsp;</td>\n",
       "            <td class=\"value\">455</td>\n",
       "        </tr>\n",
       "    \n",
       "\n",
       "        <tr class=\"user-set\">\n",
       "            <td><i class=\"copy-paste-icon\"\n",
       "                 onclick=\"copyToClipboard('n_jobs',\n",
       "                          this.parentElement.nextElementSibling)\"\n",
       "            ></i></td>\n",
       "            <td class=\"param\">n_jobs&nbsp;</td>\n",
       "            <td class=\"value\">-1</td>\n",
       "        </tr>\n",
       "    \n",
       "\n",
       "        <tr class=\"user-set\">\n",
       "            <td><i class=\"copy-paste-icon\"\n",
       "                 onclick=\"copyToClipboard('num_parallel_tree',\n",
       "                          this.parentElement.nextElementSibling)\"\n",
       "            ></i></td>\n",
       "            <td class=\"param\">num_parallel_tree&nbsp;</td>\n",
       "            <td class=\"value\">None</td>\n",
       "        </tr>\n",
       "    \n",
       "\n",
       "        <tr class=\"user-set\">\n",
       "            <td><i class=\"copy-paste-icon\"\n",
       "                 onclick=\"copyToClipboard('random_state',\n",
       "                          this.parentElement.nextElementSibling)\"\n",
       "            ></i></td>\n",
       "            <td class=\"param\">random_state&nbsp;</td>\n",
       "            <td class=\"value\">30</td>\n",
       "        </tr>\n",
       "    \n",
       "\n",
       "        <tr class=\"user-set\">\n",
       "            <td><i class=\"copy-paste-icon\"\n",
       "                 onclick=\"copyToClipboard('reg_alpha',\n",
       "                          this.parentElement.nextElementSibling)\"\n",
       "            ></i></td>\n",
       "            <td class=\"param\">reg_alpha&nbsp;</td>\n",
       "            <td class=\"value\">None</td>\n",
       "        </tr>\n",
       "    \n",
       "\n",
       "        <tr class=\"user-set\">\n",
       "            <td><i class=\"copy-paste-icon\"\n",
       "                 onclick=\"copyToClipboard('reg_lambda',\n",
       "                          this.parentElement.nextElementSibling)\"\n",
       "            ></i></td>\n",
       "            <td class=\"param\">reg_lambda&nbsp;</td>\n",
       "            <td class=\"value\">None</td>\n",
       "        </tr>\n",
       "    \n",
       "\n",
       "        <tr class=\"user-set\">\n",
       "            <td><i class=\"copy-paste-icon\"\n",
       "                 onclick=\"copyToClipboard('sampling_method',\n",
       "                          this.parentElement.nextElementSibling)\"\n",
       "            ></i></td>\n",
       "            <td class=\"param\">sampling_method&nbsp;</td>\n",
       "            <td class=\"value\">None</td>\n",
       "        </tr>\n",
       "    \n",
       "\n",
       "        <tr class=\"user-set\">\n",
       "            <td><i class=\"copy-paste-icon\"\n",
       "                 onclick=\"copyToClipboard('scale_pos_weight',\n",
       "                          this.parentElement.nextElementSibling)\"\n",
       "            ></i></td>\n",
       "            <td class=\"param\">scale_pos_weight&nbsp;</td>\n",
       "            <td class=\"value\">None</td>\n",
       "        </tr>\n",
       "    \n",
       "\n",
       "        <tr class=\"user-set\">\n",
       "            <td><i class=\"copy-paste-icon\"\n",
       "                 onclick=\"copyToClipboard('subsample',\n",
       "                          this.parentElement.nextElementSibling)\"\n",
       "            ></i></td>\n",
       "            <td class=\"param\">subsample&nbsp;</td>\n",
       "            <td class=\"value\">0.5467891860641703</td>\n",
       "        </tr>\n",
       "    \n",
       "\n",
       "        <tr class=\"user-set\">\n",
       "            <td><i class=\"copy-paste-icon\"\n",
       "                 onclick=\"copyToClipboard('tree_method',\n",
       "                          this.parentElement.nextElementSibling)\"\n",
       "            ></i></td>\n",
       "            <td class=\"param\">tree_method&nbsp;</td>\n",
       "            <td class=\"value\">None</td>\n",
       "        </tr>\n",
       "    \n",
       "\n",
       "        <tr class=\"user-set\">\n",
       "            <td><i class=\"copy-paste-icon\"\n",
       "                 onclick=\"copyToClipboard('validate_parameters',\n",
       "                          this.parentElement.nextElementSibling)\"\n",
       "            ></i></td>\n",
       "            <td class=\"param\">validate_parameters&nbsp;</td>\n",
       "            <td class=\"value\">None</td>\n",
       "        </tr>\n",
       "    \n",
       "\n",
       "        <tr class=\"user-set\">\n",
       "            <td><i class=\"copy-paste-icon\"\n",
       "                 onclick=\"copyToClipboard('verbosity',\n",
       "                          this.parentElement.nextElementSibling)\"\n",
       "            ></i></td>\n",
       "            <td class=\"param\">verbosity&nbsp;</td>\n",
       "            <td class=\"value\">None</td>\n",
       "        </tr>\n",
       "    \n",
       "                  </tbody>\n",
       "                </table>\n",
       "            </details>\n",
       "        </div>\n",
       "    </div></div></div></div></div></div></div><script>function copyToClipboard(text, element) {\n",
       "    // Get the parameter prefix from the closest toggleable content\n",
       "    const toggleableContent = element.closest('.sk-toggleable__content');\n",
       "    const paramPrefix = toggleableContent ? toggleableContent.dataset.paramPrefix : '';\n",
       "    const fullParamName = paramPrefix ? `${paramPrefix}${text}` : text;\n",
       "\n",
       "    const originalStyle = element.style;\n",
       "    const computedStyle = window.getComputedStyle(element);\n",
       "    const originalWidth = computedStyle.width;\n",
       "    const originalHTML = element.innerHTML.replace('Copied!', '');\n",
       "\n",
       "    navigator.clipboard.writeText(fullParamName)\n",
       "        .then(() => {\n",
       "            element.style.width = originalWidth;\n",
       "            element.style.color = 'green';\n",
       "            element.innerHTML = \"Copied!\";\n",
       "\n",
       "            setTimeout(() => {\n",
       "                element.innerHTML = originalHTML;\n",
       "                element.style = originalStyle;\n",
       "            }, 2000);\n",
       "        })\n",
       "        .catch(err => {\n",
       "            console.error('Failed to copy:', err);\n",
       "            element.style.color = 'red';\n",
       "            element.innerHTML = \"Failed!\";\n",
       "            setTimeout(() => {\n",
       "                element.innerHTML = originalHTML;\n",
       "                element.style = originalStyle;\n",
       "            }, 2000);\n",
       "        });\n",
       "    return false;\n",
       "}\n",
       "\n",
       "document.querySelectorAll('.fa-regular.fa-copy').forEach(function(element) {\n",
       "    const toggleableContent = element.closest('.sk-toggleable__content');\n",
       "    const paramPrefix = toggleableContent ? toggleableContent.dataset.paramPrefix : '';\n",
       "    const paramName = element.parentElement.nextElementSibling.textContent.trim();\n",
       "    const fullParamName = paramPrefix ? `${paramPrefix}${paramName}` : paramName;\n",
       "\n",
       "    element.setAttribute('title', fullParamName);\n",
       "});\n",
       "</script></body>"
      ],
      "text/plain": [
       "Pipeline(steps=[('preprocessor',\n",
       "                 ColumnTransformer(transformers=[('cat',\n",
       "                                                  OneHotEncoder(handle_unknown='ignore'),\n",
       "                                                  ['area_type', 'availability',\n",
       "                                                   'location']),\n",
       "                                                 ('num', StandardScaler(),\n",
       "                                                  ['total_sqft', 'bath',\n",
       "                                                   'balcony'])])),\n",
       "                ('model',\n",
       "                 XGBRegressor(base_score=None, booster=None, callbacks=None,\n",
       "                              colsample_bylevel=None, colsample_bynode=None,\n",
       "                              colsample_bytree=0.715916803...\n",
       "                              gamma=None, grow_policy=None,\n",
       "                              importance_type=None,\n",
       "                              interaction_constraints=None,\n",
       "                              learning_rate=0.18579052942455954, max_bin=None,\n",
       "                              max_cat_threshold=None, max_cat_to_onehot=None,\n",
       "                              max_delta_step=None, max_depth=14,\n",
       "                              max_leaves=None, min_child_weight=None,\n",
       "                              missing=nan, monotone_constraints=None,\n",
       "                              multi_strategy=None, n_estimators=455, n_jobs=-1,\n",
       "                              num_parallel_tree=None, ...))])"
      ]
     },
     "execution_count": 52,
     "metadata": {},
     "output_type": "execute_result"
    }
   ],
   "source": [
    "best_model_name = best_params['model']\n",
    "best_random_state = best_params['random_state']\n",
    "best_test_size = best_params['test_size']\n",
    "\n",
    "X_train, X_test, y_train, y_test = train_test_split(x, y, test_size=best_test_size, random_state=best_random_state)\n",
    "\n",
    "\n",
    "if best_model_name == 'LinearRegression':\n",
    "    best_model = LinearRegression()\n",
    "\n",
    "elif best_model_name == 'RandomForest':\n",
    "    best_model = RandomForestRegressor(\n",
    "        n_estimators=best_params['rf_n_estimators'],\n",
    "        max_depth=best_params['rf_max_depth'],\n",
    "        min_samples_split=best_params['rf_min_samples_split'],\n",
    "        min_samples_leaf=best_params['rf_min_samples_leaf'],\n",
    "        random_state=best_params['random_state'],\n",
    "        n_jobs=-1\n",
    "    )\n",
    "\n",
    "elif best_model_name == 'XGBoost':\n",
    "    best_model = xgb.XGBRegressor(\n",
    "        n_estimators=best_params['xgb_n_estimators'],\n",
    "        max_depth=best_params['xgb_max_depth'],\n",
    "        learning_rate=best_params['xgb_learning_rate'],\n",
    "        subsample=best_params['xgb_subsample'],\n",
    "        colsample_bytree=best_params['xgb_colsample_bytree'],\n",
    "        random_state=best_params['random_state'],\n",
    "        n_jobs=-1\n",
    "    )\n",
    "\n",
    "final_pipeline = Pipeline([\n",
    "    ('preprocessor', preprocessor),\n",
    "    ('model', best_model)\n",
    "])\n",
    "\n",
    "final_pipeline.fit(X_train, y_train)"
   ]
  },
  {
   "cell_type": "code",
   "execution_count": 54,
   "id": "4637df45",
   "metadata": {},
   "outputs": [
    {
     "name": "stdout",
     "output_type": "stream",
     "text": [
      "Test R² Score: 0.8614\n"
     ]
    }
   ],
   "source": [
    "y_pred = final_pipeline.predict(X_test)\n",
    "r2 = r2_score(y_test, y_pred)\n",
    "print(f\"Test R² Score: {r2:.4f}\")\n"
   ]
  },
  {
   "cell_type": "code",
   "execution_count": 58,
   "id": "1ec6411d",
   "metadata": {},
   "outputs": [],
   "source": [
    "with open('best_model_pipeline.pkl', 'wb') as f:\n",
    "    pickle.dump(final_pipeline, f)"
   ]
  }
 ],
 "metadata": {
  "kernelspec": {
   "display_name": "venv",
   "language": "python",
   "name": "python3"
  },
  "language_info": {
   "codemirror_mode": {
    "name": "ipython",
    "version": 3
   },
   "file_extension": ".py",
   "mimetype": "text/x-python",
   "name": "python",
   "nbconvert_exporter": "python",
   "pygments_lexer": "ipython3",
   "version": "3.13.3"
  }
 },
 "nbformat": 4,
 "nbformat_minor": 5
}
